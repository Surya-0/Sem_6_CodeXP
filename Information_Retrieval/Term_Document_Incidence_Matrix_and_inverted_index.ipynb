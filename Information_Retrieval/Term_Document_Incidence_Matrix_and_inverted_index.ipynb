{
 "cells": [
  {
   "cell_type": "code",
   "execution_count": 45,
   "id": "initial_id",
   "metadata": {
    "collapsed": true,
    "ExecuteTime": {
     "end_time": "2024-08-09T04:02:01.706687Z",
     "start_time": "2024-08-09T04:02:01.673751Z"
    }
   },
   "outputs": [],
   "source": [
    "import numpy as np\n",
    "import pandas as pd\n",
    "from collections import defaultdict"
   ]
  },
  {
   "cell_type": "code",
   "execution_count": 65,
   "outputs": [],
   "source": [
    "class LinkedList:\n",
    "    def __init__(self,val = \"\",next = None):\n",
    "        self.val = val\n",
    "        self.next = next"
   ],
   "metadata": {
    "collapsed": false,
    "ExecuteTime": {
     "end_time": "2024-08-09T04:04:38.300443Z",
     "start_time": "2024-08-09T04:04:38.296850Z"
    }
   },
   "id": "3c97845038bbd98d"
  },
  {
   "cell_type": "markdown",
   "source": [
    "### Term document incidence matrix"
   ],
   "metadata": {
    "collapsed": false
   },
   "id": "f5ef53964e5d95f8"
  },
  {
   "cell_type": "markdown",
   "source": [
    "In the term document incidence matrix the rows represent the distinct terms and the columns represent the documents present in the collection"
   ],
   "metadata": {
    "collapsed": false
   },
   "id": "bf6d184ca8494ee"
  },
  {
   "cell_type": "code",
   "execution_count": 46,
   "outputs": [],
   "source": [
    "Doc1 = \"tigers are my favorite among various animals\"\n",
    "Doc2 =  \"tigers generally run faster than humans\"\n",
    "Doc3 = \"animals are generally stronger than humans\""
   ],
   "metadata": {
    "collapsed": false,
    "ExecuteTime": {
     "end_time": "2024-08-09T04:02:01.716085Z",
     "start_time": "2024-08-09T04:02:01.681264Z"
    }
   },
   "id": "c4c8aee9586f4cdc"
  },
  {
   "cell_type": "code",
   "execution_count": 47,
   "outputs": [
    {
     "data": {
      "text/plain": "['tigers are my favorite among various animals',\n 'tigers generally run faster than humans',\n 'animals are generally stronger than humans']"
     },
     "execution_count": 47,
     "metadata": {},
     "output_type": "execute_result"
    }
   ],
   "source": [
    "docs = [Doc1, Doc2, Doc3]\n",
    "docs"
   ],
   "metadata": {
    "collapsed": false,
    "ExecuteTime": {
     "end_time": "2024-08-09T04:02:01.772867Z",
     "start_time": "2024-08-09T04:02:01.685824Z"
    }
   },
   "id": "cb36dc2d85de408f"
  },
  {
   "cell_type": "code",
   "execution_count": 48,
   "outputs": [
    {
     "data": {
      "text/plain": "{'among',\n 'animals',\n 'are',\n 'faster',\n 'favorite',\n 'generally',\n 'humans',\n 'my',\n 'run',\n 'stronger',\n 'than',\n 'tigers',\n 'various'}"
     },
     "execution_count": 48,
     "metadata": {},
     "output_type": "execute_result"
    }
   ],
   "source": [
    "unique_terms = set()\n",
    "for doc in docs:\n",
    "    for term in doc.split():\n",
    "        unique_terms.add(term)\n",
    "unique_terms"
   ],
   "metadata": {
    "collapsed": false,
    "ExecuteTime": {
     "end_time": "2024-08-09T04:02:01.773270Z",
     "start_time": "2024-08-09T04:02:01.692510Z"
    }
   },
   "id": "f4967da88f7f52ec"
  },
  {
   "cell_type": "code",
   "execution_count": 49,
   "outputs": [
    {
     "data": {
      "text/plain": "{'among': [1, 0, 0],\n 'tigers': [1, 1, 0],\n 'my': [1, 0, 0],\n 'animals': [1, 0, 1],\n 'are': [1, 0, 1],\n 'faster': [0, 1, 0],\n 'than': [0, 1, 1],\n 'favorite': [1, 0, 0],\n 'generally': [0, 1, 1],\n 'various': [1, 0, 0],\n 'stronger': [0, 0, 1],\n 'run': [0, 1, 0],\n 'humans': [0, 1, 1]}"
     },
     "execution_count": 49,
     "metadata": {},
     "output_type": "execute_result"
    }
   ],
   "source": [
    "doc_term_matrix = {}\n",
    "for term in unique_terms:\n",
    "    doc_term_matrix[term] = []\n",
    "    for doc in docs:\n",
    "        if term in doc:\n",
    "            doc_term_matrix[term].append(1)\n",
    "        \n",
    "        else:\n",
    "            doc_term_matrix[term].append(0)\n",
    "doc_term_matrix"
   ],
   "metadata": {
    "collapsed": false,
    "ExecuteTime": {
     "end_time": "2024-08-09T04:02:01.774189Z",
     "start_time": "2024-08-09T04:02:01.696662Z"
    }
   },
   "id": "2b110e31d0adea7c"
  },
  {
   "cell_type": "code",
   "execution_count": 50,
   "outputs": [],
   "source": [
    "docs_arr = np.array(docs,dtype='object')\n",
    "v1 = np.array(doc_term_matrix['tigers'])\n",
    "v2 = np.array(doc_term_matrix['animals'])"
   ],
   "metadata": {
    "collapsed": false,
    "ExecuteTime": {
     "end_time": "2024-08-09T04:02:01.774584Z",
     "start_time": "2024-08-09T04:02:01.703152Z"
    }
   },
   "id": "141d8cb16551017e"
  },
  {
   "cell_type": "code",
   "execution_count": 51,
   "outputs": [
    {
     "name": "stdout",
     "output_type": "stream",
     "text": [
      "[1 1 0]   [1 0 1]\n"
     ]
    }
   ],
   "source": [
    "print(v1,\" \",v2)"
   ],
   "metadata": {
    "collapsed": false,
    "ExecuteTime": {
     "end_time": "2024-08-09T04:02:01.774894Z",
     "start_time": "2024-08-09T04:02:01.705684Z"
    }
   },
   "id": "bb7397cc78b0ea34"
  },
  {
   "cell_type": "code",
   "execution_count": 52,
   "outputs": [
    {
     "data": {
      "text/plain": "array([1, 0, 0])"
     },
     "execution_count": 52,
     "metadata": {},
     "output_type": "execute_result"
    }
   ],
   "source": [
    "# Documents containing tigers and animals\n",
    "v1 & v2"
   ],
   "metadata": {
    "collapsed": false,
    "ExecuteTime": {
     "end_time": "2024-08-09T04:02:01.774979Z",
     "start_time": "2024-08-09T04:02:01.708228Z"
    }
   },
   "id": "5a2cebc160f0c78d"
  },
  {
   "cell_type": "code",
   "execution_count": 53,
   "outputs": [
    {
     "data": {
      "text/plain": "array([0, 1, 0])"
     },
     "execution_count": 53,
     "metadata": {},
     "output_type": "execute_result"
    }
   ],
   "source": [
    "v3 = np.array(doc_term_matrix['faster'])\n",
    "v3"
   ],
   "metadata": {
    "collapsed": false,
    "ExecuteTime": {
     "end_time": "2024-08-09T04:02:01.775292Z",
     "start_time": "2024-08-09T04:02:01.715495Z"
    }
   },
   "id": "ea1d56c1ac808d59"
  },
  {
   "cell_type": "code",
   "execution_count": 54,
   "outputs": [
    {
     "data": {
      "text/plain": "array([0, 1, 0])"
     },
     "execution_count": 54,
     "metadata": {},
     "output_type": "execute_result"
    }
   ],
   "source": [
    "# Documents containing tigers and faster\n",
    "v1 &  v3"
   ],
   "metadata": {
    "collapsed": false,
    "ExecuteTime": {
     "end_time": "2024-08-09T04:02:01.775391Z",
     "start_time": "2024-08-09T04:02:01.721109Z"
    }
   },
   "id": "42b3c225f0baa590"
  },
  {
   "cell_type": "markdown",
   "source": [
    "### Inverted Index"
   ],
   "metadata": {
    "collapsed": false
   },
   "id": "6717715645ce5356"
  },
  {
   "cell_type": "code",
   "execution_count": 55,
   "outputs": [
    {
     "data": {
      "text/plain": "['tigers are my favorite among various animals',\n 'tigers generally run faster than humans',\n 'animals are generally stronger than humans']"
     },
     "execution_count": 55,
     "metadata": {},
     "output_type": "execute_result"
    }
   ],
   "source": [
    "docs"
   ],
   "metadata": {
    "collapsed": false,
    "ExecuteTime": {
     "end_time": "2024-08-09T04:02:01.775504Z",
     "start_time": "2024-08-09T04:02:01.723062Z"
    }
   },
   "id": "9f38e261e5a93ecc"
  },
  {
   "cell_type": "code",
   "execution_count": 56,
   "outputs": [],
   "source": [
    "tokens_doc_1 = Doc1.split()\n",
    "tokens_doc_2 = Doc2.split()\n",
    "tokens_doc_3 = Doc3.split()"
   ],
   "metadata": {
    "collapsed": false,
    "ExecuteTime": {
     "end_time": "2024-08-09T04:02:01.775543Z",
     "start_time": "2024-08-09T04:02:01.725446Z"
    }
   },
   "id": "5ee8d6b606655d1"
  },
  {
   "cell_type": "code",
   "execution_count": 57,
   "outputs": [
    {
     "data": {
      "text/plain": "['tigers', 'are', 'my', 'favorite', 'among', 'various', 'animals']"
     },
     "execution_count": 57,
     "metadata": {},
     "output_type": "execute_result"
    }
   ],
   "source": [
    "tokens_doc_1"
   ],
   "metadata": {
    "collapsed": false,
    "ExecuteTime": {
     "end_time": "2024-08-09T04:02:01.775608Z",
     "start_time": "2024-08-09T04:02:01.728632Z"
    }
   },
   "id": "48bdaa0782ad31bd"
  },
  {
   "cell_type": "code",
   "execution_count": 58,
   "outputs": [
    {
     "data": {
      "text/plain": "['tigers', 'generally', 'run', 'faster', 'than', 'humans']"
     },
     "execution_count": 58,
     "metadata": {},
     "output_type": "execute_result"
    }
   ],
   "source": [
    "tokens_doc_2"
   ],
   "metadata": {
    "collapsed": false,
    "ExecuteTime": {
     "end_time": "2024-08-09T04:02:01.775675Z",
     "start_time": "2024-08-09T04:02:01.731947Z"
    }
   },
   "id": "95d6156e4204829d"
  },
  {
   "cell_type": "code",
   "execution_count": 59,
   "outputs": [
    {
     "data": {
      "text/plain": "['animals', 'are', 'generally', 'stronger', 'than', 'humans']"
     },
     "execution_count": 59,
     "metadata": {},
     "output_type": "execute_result"
    }
   ],
   "source": [
    "tokens_doc_3"
   ],
   "metadata": {
    "collapsed": false,
    "ExecuteTime": {
     "end_time": "2024-08-09T04:02:01.775781Z",
     "start_time": "2024-08-09T04:02:01.735495Z"
    }
   },
   "id": "d1647ca057fa4389"
  },
  {
   "cell_type": "code",
   "execution_count": 60,
   "outputs": [],
   "source": [
    "all_tokens = tokens_doc_1 + tokens_doc_2 + tokens_doc_3"
   ],
   "metadata": {
    "collapsed": false,
    "ExecuteTime": {
     "end_time": "2024-08-09T04:02:01.775813Z",
     "start_time": "2024-08-09T04:02:01.738496Z"
    }
   },
   "id": "940b562210884121"
  },
  {
   "cell_type": "code",
   "execution_count": 61,
   "outputs": [
    {
     "data": {
      "text/plain": "['tigers',\n 'are',\n 'my',\n 'favorite',\n 'among',\n 'various',\n 'animals',\n 'tigers',\n 'generally',\n 'run',\n 'faster',\n 'than',\n 'humans',\n 'animals',\n 'are',\n 'generally',\n 'stronger',\n 'than',\n 'humans']"
     },
     "execution_count": 61,
     "metadata": {},
     "output_type": "execute_result"
    }
   ],
   "source": [
    "all_tokens"
   ],
   "metadata": {
    "collapsed": false,
    "ExecuteTime": {
     "end_time": "2024-08-09T04:02:01.775888Z",
     "start_time": "2024-08-09T04:02:01.740716Z"
    }
   },
   "id": "d604740fa934ecfd"
  },
  {
   "cell_type": "code",
   "execution_count": 63,
   "outputs": [],
   "source": [
    "all_tokens.sort()"
   ],
   "metadata": {
    "collapsed": false,
    "ExecuteTime": {
     "end_time": "2024-08-09T04:02:08.953340Z",
     "start_time": "2024-08-09T04:02:08.935499Z"
    }
   },
   "id": "ba5bf89112dacc01"
  },
  {
   "cell_type": "code",
   "execution_count": 68,
   "outputs": [],
   "source": [
    "all_tokens = sorted(list(set(all_tokens))) "
   ],
   "metadata": {
    "collapsed": false,
    "ExecuteTime": {
     "end_time": "2024-08-09T04:05:36.860901Z",
     "start_time": "2024-08-09T04:05:36.856969Z"
    }
   },
   "id": "ec5017012966ba64"
  },
  {
   "cell_type": "code",
   "execution_count": 69,
   "outputs": [
    {
     "data": {
      "text/plain": "['among',\n 'animals',\n 'are',\n 'faster',\n 'favorite',\n 'generally',\n 'humans',\n 'my',\n 'run',\n 'stronger',\n 'than',\n 'tigers',\n 'various']"
     },
     "execution_count": 69,
     "metadata": {},
     "output_type": "execute_result"
    }
   ],
   "source": [
    "all_tokens"
   ],
   "metadata": {
    "collapsed": false,
    "ExecuteTime": {
     "end_time": "2024-08-09T04:05:38.306073Z",
     "start_time": "2024-08-09T04:05:38.299420Z"
    }
   },
   "id": "d3634b8808c07d24"
  },
  {
   "cell_type": "code",
   "execution_count": 72,
   "outputs": [],
   "source": [
    "res = {}\n",
    "for token in all_tokens:\n",
    "    res[token] = []\n",
    "    if token in tokens_doc_1:\n",
    "        res[token].append(\"Document 1\")\n",
    "    \n",
    "    if token in tokens_doc_2:\n",
    "        res[token].append(\"Document 2\")\n",
    "    \n",
    "    if token in tokens_doc_3:\n",
    "        res[token].append(\"Document 3\")"
   ],
   "metadata": {
    "collapsed": false,
    "ExecuteTime": {
     "end_time": "2024-08-09T04:09:51.942290Z",
     "start_time": "2024-08-09T04:09:51.936945Z"
    }
   },
   "id": "b6847ff662fe86d8"
  },
  {
   "cell_type": "code",
   "execution_count": 71,
   "outputs": [
    {
     "data": {
      "text/plain": "{'among': ['Document 1'],\n 'animals': ['Document 1', 'Document 3'],\n 'are': ['Document 1', 'Document 3'],\n 'faster': ['Document 2'],\n 'favorite': ['Document 1'],\n 'generally': ['Document 2', 'Document 3'],\n 'humans': ['Document 2', 'Document 3'],\n 'my': ['Document 1'],\n 'run': ['Document 2'],\n 'stronger': ['Document 3'],\n 'than': ['Document 2', 'Document 3'],\n 'tigers': ['Document 1', 'Document 2'],\n 'various': ['Document 1']}"
     },
     "execution_count": 71,
     "metadata": {},
     "output_type": "execute_result"
    }
   ],
   "source": [
    "res"
   ],
   "metadata": {
    "collapsed": false,
    "ExecuteTime": {
     "end_time": "2024-08-09T04:09:39.111869Z",
     "start_time": "2024-08-09T04:09:39.088351Z"
    }
   },
   "id": "8766660ef93f3ad3"
  },
  {
   "cell_type": "code",
   "execution_count": null,
   "outputs": [],
   "source": [],
   "metadata": {
    "collapsed": false
   },
   "id": "9e57b33544b27df9"
  }
 ],
 "metadata": {
  "kernelspec": {
   "display_name": "Python 3",
   "language": "python",
   "name": "python3"
  },
  "language_info": {
   "codemirror_mode": {
    "name": "ipython",
    "version": 2
   },
   "file_extension": ".py",
   "mimetype": "text/x-python",
   "name": "python",
   "nbconvert_exporter": "python",
   "pygments_lexer": "ipython2",
   "version": "2.7.6"
  }
 },
 "nbformat": 4,
 "nbformat_minor": 5
}
