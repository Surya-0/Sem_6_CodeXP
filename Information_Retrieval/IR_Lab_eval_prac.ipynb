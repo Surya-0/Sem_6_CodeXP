{
 "cells": [
  {
   "cell_type": "code",
   "execution_count": 1,
   "id": "initial_id",
   "metadata": {
    "collapsed": true,
    "ExecuteTime": {
     "end_time": "2024-09-17T01:53:46.504810Z",
     "start_time": "2024-09-17T01:53:45.047604Z"
    }
   },
   "outputs": [],
   "source": [
    "import nltk\n",
    "from nltk.tokenize import word_tokenize\n",
    "from collections import defaultdict"
   ]
  },
  {
   "cell_type": "code",
   "execution_count": 2,
   "outputs": [],
   "source": [
    "statement = \"Hello my name is tiger!\""
   ],
   "metadata": {
    "collapsed": false,
    "ExecuteTime": {
     "end_time": "2024-09-17T01:53:48.423748Z",
     "start_time": "2024-09-17T01:53:48.409820Z"
    }
   },
   "id": "bc45168ca4b03239"
  },
  {
   "cell_type": "code",
   "execution_count": 3,
   "outputs": [
    {
     "data": {
      "text/plain": "['Hello', 'my', 'name', 'is', 'tiger', '!']"
     },
     "execution_count": 3,
     "metadata": {},
     "output_type": "execute_result"
    }
   ],
   "source": [
    "tokens = word_tokenize(statement)\n",
    "tokens"
   ],
   "metadata": {
    "collapsed": false,
    "ExecuteTime": {
     "end_time": "2024-09-17T01:53:48.915050Z",
     "start_time": "2024-09-17T01:53:48.905142Z"
    }
   },
   "id": "652576f6913e7905"
  },
  {
   "cell_type": "code",
   "execution_count": 4,
   "outputs": [],
   "source": [
    "documents = [\n",
    "    \"I love programming in Python as programming is interesting\",\n",
    "    \"I think Phonetic spell correction is interesting\",\n",
    "    \"Soundex is a useful algorithm for spelling\"\n",
    "]"
   ],
   "metadata": {
    "collapsed": false,
    "ExecuteTime": {
     "end_time": "2024-09-17T01:53:49.499744Z",
     "start_time": "2024-09-17T01:53:49.452160Z"
    }
   },
   "id": "883d3c8015600370"
  },
  {
   "cell_type": "code",
   "execution_count": 5,
   "outputs": [
    {
     "name": "stdout",
     "output_type": "stream",
     "text": [
      "The tokenization for doc 0  yielded :  ['i', 'love', 'programming', 'in', 'python', 'as', 'programming', 'is', 'interesting']\n",
      "The tokenization for doc 1  yielded :  ['i', 'think', 'phonetic', 'spell', 'correction', 'is', 'interesting']\n",
      "The tokenization for doc 2  yielded :  ['soundex', 'is', 'a', 'useful', 'algorithm', 'for', 'spelling']\n",
      "defaultdict(<class 'dict'>, {'i': {0: 1, 1: 1}, 'love': {0: 1}, 'programming': {0: 2}, 'in': {0: 1}, 'python': {0: 1}, 'as': {0: 1}, 'is': {0: 1, 1: 1, 2: 1}, 'interesting': {0: 1, 1: 1}, 'think': {1: 1}, 'phonetic': {1: 1}, 'spell': {1: 1}, 'correction': {1: 1}, 'soundex': {2: 1}, 'a': {2: 1}, 'useful': {2: 1}, 'algorithm': {2: 1}, 'for': {2: 1}, 'spelling': {2: 1}})\n"
     ]
    }
   ],
   "source": [
    "term_frequency = defaultdict(dict)\n",
    "for doc_id, doc in enumerate(documents):\n",
    "    tokens = doc.lower().split()\n",
    "    print(\"The tokenization for doc\" ,doc_id, \" yielded : \", tokens)\n",
    "    for token in tokens:\n",
    "        if token in term_frequency:\n",
    "            term_frequency[token][doc_id] = term_frequency[token].get(doc_id,0) + 1\n",
    "        else:\n",
    "            term_frequency[token][doc_id] = 1 \n",
    "print(term_frequency)"
   ],
   "metadata": {
    "collapsed": false,
    "ExecuteTime": {
     "end_time": "2024-09-17T01:53:49.939134Z",
     "start_time": "2024-09-17T01:53:49.936047Z"
    }
   },
   "id": "5ae419bf8adfeada"
  },
  {
   "cell_type": "code",
   "execution_count": 6,
   "outputs": [
    {
     "name": "stdout",
     "output_type": "stream",
     "text": [
      "i: {0: 1, 1: 1}\n",
      "love: {0: 1}\n",
      "programming: {0: 2}\n",
      "in: {0: 1}\n",
      "python: {0: 1}\n",
      "as: {0: 1}\n",
      "is: {0: 1, 1: 1, 2: 1}\n",
      "interesting: {0: 1, 1: 1}\n",
      "think: {1: 1}\n",
      "phonetic: {1: 1}\n",
      "spell: {1: 1}\n",
      "correction: {1: 1}\n",
      "soundex: {2: 1}\n",
      "a: {2: 1}\n",
      "useful: {2: 1}\n",
      "algorithm: {2: 1}\n",
      "for: {2: 1}\n",
      "spelling: {2: 1}\n"
     ]
    }
   ],
   "source": [
    "# Output the term frequency matrix\n",
    "for term, doc_freq in term_frequency.items():\n",
    "    print(f\"{term}: {doc_freq}\")\n"
   ],
   "metadata": {
    "collapsed": false,
    "ExecuteTime": {
     "end_time": "2024-09-17T01:53:51.499087Z",
     "start_time": "2024-09-17T01:53:51.478075Z"
    }
   },
   "id": "3a66555e95ab71b5"
  },
  {
   "cell_type": "code",
   "execution_count": 15,
   "outputs": [
    {
     "name": "stdout",
     "output_type": "stream",
     "text": [
      "             0  1  2\n",
      "algorithm    0  0  1\n",
      "correction   0  1  0\n",
      "for          0  0  1\n",
      "in           1  0  0\n",
      "interesting  0  1  0\n",
      "is           0  1  1\n",
      "love         1  0  0\n",
      "phonetic     0  1  0\n",
      "programming  1  0  0\n",
      "python       1  0  0\n",
      "soundex      0  0  1\n",
      "spell        0  1  0\n",
      "spelling     0  0  1\n",
      "useful       0  0  1\n"
     ]
    }
   ],
   "source": [
    "from sklearn.feature_extraction.text import CountVectorizer\n",
    "import pandas as pd\n",
    "\n",
    "# Example corpus (documents)\n",
    "documents = [\n",
    "    \"I love programming in Python\",\n",
    "    \"Phonetic spell correction is interesting\",\n",
    "    \"Soundex is a useful algorithm for spelling\"\n",
    "]\n",
    "\n",
    "# Initialize the CountVectorizer\n",
    "vectorizer = CountVectorizer()\n",
    "\n",
    "# Fit the vectorizer to the documents and transform them into a term-frequency matrix\n",
    "X = vectorizer.fit_transform(documents)\n",
    "\n",
    "# Convert the term-frequency matrix into a pandas DataFrame for better readability\n",
    "tf_matrix = pd.DataFrame(X.toarray(), columns=vectorizer.get_feature_names_out())\n",
    "\n",
    "tf_matrix = tf_matrix.T\n",
    "# Output the term-frequency matrix\n",
    "print(tf_matrix)\n"
   ],
   "metadata": {
    "collapsed": false,
    "ExecuteTime": {
     "end_time": "2024-09-17T01:56:50.482548Z",
     "start_time": "2024-09-17T01:56:49.789396Z"
    }
   },
   "id": "619070bbd599d10"
  },
  {
   "cell_type": "code",
   "execution_count": 7,
   "outputs": [],
   "source": [
    "import nltk\n",
    "from collections import defaultdict\n",
    "from nltk.util import ngrams"
   ],
   "metadata": {
    "collapsed": false,
    "ExecuteTime": {
     "end_time": "2024-09-17T01:53:54.051198Z",
     "start_time": "2024-09-17T01:53:54.039154Z"
    }
   },
   "id": "5098069a855c1a9f"
  },
  {
   "cell_type": "code",
   "execution_count": 8,
   "outputs": [],
   "source": [
    "# Tokenization\n",
    "def tokenize(text):\n",
    "    return nltk.word_tokenize(text)\n",
    "\n",
    "# Inverted Index Construction\n",
    "def build_inverted_index(documents):\n",
    "    inverted_index = defaultdict(list)\n",
    "    for doc_id, text in enumerate(documents):\n",
    "        tokens = tokenize(text)\n",
    "        for token in tokens:\n",
    "            inverted_index[token].append(doc_id)\n",
    "    return inverted_index\n",
    "\n",
    "\n",
    "documents = [\n",
    "    \"I love programming in Python\",\n",
    "    \"Phonetic spell correction is interesting\",\n",
    "    \"Soundex is a useful algorithm for spelling\"\n",
    "]"
   ],
   "metadata": {
    "collapsed": false,
    "ExecuteTime": {
     "end_time": "2024-09-17T01:53:59.150729Z",
     "start_time": "2024-09-17T01:53:59.147101Z"
    }
   },
   "id": "74f09058ff4c1e97"
  },
  {
   "cell_type": "code",
   "execution_count": 18,
   "outputs": [
    {
     "name": "stdout",
     "output_type": "stream",
     "text": [
      "(' ', 'H', 'e')   <class 'tuple'>\n",
      " He\n",
      "('H', 'e', 'l')   <class 'tuple'>\n",
      "Hel\n",
      "('e', 'l', 'l')   <class 'tuple'>\n",
      "ell\n",
      "('l', 'l', 'o')   <class 'tuple'>\n",
      "llo\n",
      "('l', 'o', ' ')   <class 'tuple'>\n",
      "lo \n",
      "('o', ' ', 'W')   <class 'tuple'>\n",
      "o W\n",
      "(' ', 'W', 'o')   <class 'tuple'>\n",
      " Wo\n",
      "('W', 'o', 'r')   <class 'tuple'>\n",
      "Wor\n",
      "('o', 'r', 'l')   <class 'tuple'>\n",
      "orl\n",
      "('r', 'l', 'd')   <class 'tuple'>\n",
      "rld\n",
      "('l', 'd', ' ')   <class 'tuple'>\n",
      "ld \n"
     ]
    }
   ],
   "source": [
    "for i in ngrams(\" Hello World \",3):\n",
    "    print(i,\" \",type(i))\n",
    "    print(''.join(i))"
   ],
   "metadata": {
    "collapsed": false,
    "ExecuteTime": {
     "end_time": "2024-09-17T01:57:44.926458Z",
     "start_time": "2024-09-17T01:57:44.924692Z"
    }
   },
   "id": "621b90418e581c2e"
  },
  {
   "cell_type": "code",
   "execution_count": 21,
   "outputs": [],
   "source": [
    "# Generate n-grams (n-character n-grams, default is 3)\n",
    "def generate_ngrams(word, n=3):\n",
    "    return [''.join(gram) for gram in ngrams(word, n)]\n",
    "\n",
    "# N-Gram Based Spell Correction\n",
    "def spell_correction_ngram(word, vocabulary, n=3):\n",
    "    word_ngrams = set(generate_ngrams(word, n))  # Generate n-grams for the misspelled word\n",
    "    print(word_ngrams)\n",
    "    best_match = None\n",
    "    max_overlap = 0\n",
    "\n",
    "    for vocab_word in vocabulary:\n",
    "        vocab_ngrams = set(generate_ngrams(vocab_word, n))  # Generate n-grams for the vocabulary word\n",
    "        print(\"Vocab : \",vocab_ngrams)\n",
    "        overlap = len(word_ngrams & vocab_ngrams)  # Calculate the overlap between the n-grams\n",
    "        print(overlap)\n",
    "        total_ngrams = len(word_ngrams | vocab_ngrams)  # Total n-grams (union)\n",
    "        \n",
    "        # Calculate Jaccard similarity\n",
    "        similarity = overlap / total_ngrams if total_ngrams > 0 else 0\n",
    "        \n",
    "        # Update best match if this word has more overlap\n",
    "        if similarity > max_overlap:\n",
    "            max_overlap = similarity\n",
    "            best_match = vocab_word\n",
    "    \n",
    "    return best_match\n",
    "\n",
    "# Soundex Algorithm for Phonetic Spell Correction\n",
    "def soundex(word):\n",
    "    \"\"\"Returns the soundex code for the word.\"\"\"\n",
    "    word = word.upper()\n",
    "    soundex_code = word[0]\n",
    "\n",
    "    soundex_mapping = {\n",
    "        \"BFPV\": \"1\", \"CGJKQSXZ\": \"2\", \"DT\": \"3\", \"L\": \"4\",\n",
    "        \"MN\": \"5\", \"R\": \"6\"\n",
    "    }\n",
    "\n",
    "    for char in word[1:]:\n",
    "        for key in soundex_mapping.keys():\n",
    "            if char in key:\n",
    "                code = soundex_mapping[key]\n",
    "                if code != soundex_code[-1]:  # Avoid duplicates\n",
    "                    soundex_code += code\n",
    "                break\n",
    "        if len(soundex_code) == 4:\n",
    "            break\n",
    "\n",
    "    soundex_code = (soundex_code + \"000\")[:4]  # Pad with zeros if necessary\n",
    "    return soundex_code\n",
    "\n",
    "def spell_correction_soundex(word, vocabulary):\n",
    "    \"\"\"Corrects spelling using Soundex codes.\"\"\"\n",
    "    word_soundex = soundex(word)\n",
    "    for vocab_word in vocabulary:\n",
    "        if soundex(vocab_word) == word_soundex:\n",
    "            return vocab_word\n",
    "    return word\n",
    "\n",
    "# Example Usage"
   ],
   "metadata": {
    "collapsed": false,
    "ExecuteTime": {
     "end_time": "2024-09-17T02:05:41.397835Z",
     "start_time": "2024-09-17T02:05:41.397470Z"
    }
   },
   "id": "c393178a34960d69"
  },
  {
   "cell_type": "code",
   "execution_count": 22,
   "outputs": [
    {
     "data": {
      "text/plain": "['I', 'love', 'programming', 'in', 'Python']"
     },
     "execution_count": 22,
     "metadata": {},
     "output_type": "execute_result"
    }
   ],
   "source": [
    "# Tokenize and build inverted index\n",
    "tokens = tokenize(documents[0])\n",
    "tokens\n"
   ],
   "metadata": {
    "collapsed": false,
    "ExecuteTime": {
     "end_time": "2024-09-17T02:05:42.629045Z",
     "start_time": "2024-09-17T02:05:42.626381Z"
    }
   },
   "id": "8f924222988e8ed2"
  },
  {
   "cell_type": "code",
   "execution_count": 23,
   "outputs": [
    {
     "data": {
      "text/plain": "defaultdict(list,\n            {'I': [0],\n             'love': [0],\n             'programming': [0],\n             'in': [0],\n             'Python': [0],\n             'Phonetic': [1],\n             'spell': [1],\n             'correction': [1],\n             'is': [1, 2],\n             'interesting': [1],\n             'Soundex': [2],\n             'a': [2],\n             'useful': [2],\n             'algorithm': [2],\n             'for': [2],\n             'spelling': [2]})"
     },
     "execution_count": 23,
     "metadata": {},
     "output_type": "execute_result"
    }
   ],
   "source": [
    "inverted_index = build_inverted_index(documents)\n",
    "inverted_index"
   ],
   "metadata": {
    "collapsed": false,
    "ExecuteTime": {
     "end_time": "2024-09-17T02:05:43.310871Z",
     "start_time": "2024-09-17T02:05:43.305836Z"
    }
   },
   "id": "6b7f2959d1ef109"
  },
  {
   "cell_type": "code",
   "execution_count": 24,
   "outputs": [
    {
     "data": {
      "text/plain": "['I',\n 'love',\n 'programming',\n 'in',\n 'Python',\n 'Phonetic',\n 'spell',\n 'correction',\n 'is',\n 'interesting',\n 'Soundex',\n 'a',\n 'useful',\n 'algorithm',\n 'for',\n 'spelling']"
     },
     "execution_count": 24,
     "metadata": {},
     "output_type": "execute_result"
    }
   ],
   "source": [
    "# Test Spell Correction\n",
    "vocabulary = list(inverted_index.keys())\n",
    "vocabulary"
   ],
   "metadata": {
    "collapsed": false,
    "ExecuteTime": {
     "end_time": "2024-09-17T02:05:45.873526Z",
     "start_time": "2024-09-17T02:05:45.868055Z"
    }
   },
   "id": "a0101498462937c"
  },
  {
   "cell_type": "code",
   "execution_count": 25,
   "outputs": [
    {
     "name": "stdout",
     "output_type": "stream",
     "text": [
      "{'one', 'eti', 'hon', 'pho', 'net', 'ick', 'tic'}\n",
      "Vocab :  set()\n",
      "0\n",
      "Vocab :  {'ove', 'lov'}\n",
      "0\n",
      "Vocab :  {'ram', 'ing', 'gra', 'pro', 'ogr', 'rog', 'amm', 'mmi', 'min'}\n",
      "0\n",
      "Vocab :  set()\n",
      "0\n",
      "Vocab :  {'Pyt', 'tho', 'hon', 'yth'}\n",
      "1\n",
      "Vocab :  {'Pho', 'one', 'eti', 'hon', 'net', 'tic'}\n",
      "5\n",
      "Vocab :  {'ell', 'pel', 'spe'}\n",
      "0\n",
      "Vocab :  {'rec', 'ion', 'tio', 'ect', 'rre', 'orr', 'cor', 'cti'}\n",
      "0\n",
      "Vocab :  set()\n",
      "0\n",
      "Vocab :  {'ing', 'ter', 'res', 'tin', 'int', 'ere', 'est', 'nte', 'sti'}\n",
      "0\n",
      "Vocab :  {'und', 'Sou', 'dex', 'nde', 'oun'}\n",
      "0\n",
      "Vocab :  set()\n",
      "0\n",
      "Vocab :  {'sef', 'efu', 'use', 'ful'}\n",
      "0\n",
      "Vocab :  {'rit', 'thm', 'ith', 'lgo', 'ori', 'gor', 'alg'}\n",
      "0\n",
      "Vocab :  {'for'}\n",
      "0\n",
      "Vocab :  {'ing', 'lli', 'pel', 'lin', 'ell', 'spe'}\n",
      "0\n",
      "N-Gram Corrected Word: Phonetic\n"
     ]
    }
   ],
   "source": [
    "misspelled_word = \"phonetick\"  # Intentional typo\n",
    "\n",
    "# N-Gram Based Correction\n",
    "corrected_ngram = spell_correction_ngram(misspelled_word, vocabulary)\n",
    "print(f\"N-Gram Corrected Word: {corrected_ngram}\")\n"
   ],
   "metadata": {
    "collapsed": false,
    "ExecuteTime": {
     "end_time": "2024-09-17T02:05:47.086344Z",
     "start_time": "2024-09-17T02:05:47.081603Z"
    }
   },
   "id": "aabf5d61c4fca4d"
  },
  {
   "cell_type": "code",
   "execution_count": 27,
   "outputs": [
    {
     "name": "stdout",
     "output_type": "stream",
     "text": [
      "2\n"
     ]
    }
   ],
   "source": [
    "a = {'abc','def','ghi','jkl'}\n",
    "b = {'abc','def','xyz','uvw'}\n",
    "print(len(a & b))"
   ],
   "metadata": {
    "collapsed": false,
    "ExecuteTime": {
     "end_time": "2024-09-17T02:06:36.915176Z",
     "start_time": "2024-09-17T02:06:36.911169Z"
    }
   },
   "id": "d8389bd294b07b1d"
  },
  {
   "cell_type": "code",
   "execution_count": 17,
   "outputs": [
    {
     "name": "stdout",
     "output_type": "stream",
     "text": [
      "Soundex Corrected Word: Phonetic\n"
     ]
    }
   ],
   "source": [
    "\n",
    "# Soundex-Based Correction\n",
    "corrected_soundex = spell_correction_soundex(misspelled_word, vocabulary)\n",
    "print(f\"Soundex Corrected Word: {corrected_soundex}\")\n"
   ],
   "metadata": {
    "collapsed": false,
    "ExecuteTime": {
     "end_time": "2024-09-17T01:57:07.165803Z",
     "start_time": "2024-09-17T01:57:07.160012Z"
    }
   },
   "id": "8241c4e8eea60758"
  }
 ],
 "metadata": {
  "kernelspec": {
   "display_name": "Python 3",
   "language": "python",
   "name": "python3"
  },
  "language_info": {
   "codemirror_mode": {
    "name": "ipython",
    "version": 2
   },
   "file_extension": ".py",
   "mimetype": "text/x-python",
   "name": "python",
   "nbconvert_exporter": "python",
   "pygments_lexer": "ipython2",
   "version": "2.7.6"
  }
 },
 "nbformat": 4,
 "nbformat_minor": 5
}
