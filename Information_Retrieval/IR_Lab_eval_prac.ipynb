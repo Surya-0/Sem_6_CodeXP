{
 "cells": [
  {
   "cell_type": "code",
   "execution_count": 30,
   "id": "initial_id",
   "metadata": {
    "collapsed": true,
    "ExecuteTime": {
     "end_time": "2024-09-16T16:46:53.086707Z",
     "start_time": "2024-09-16T16:46:53.083299Z"
    }
   },
   "outputs": [],
   "source": [
    "import nltk\n",
    "from nltk.tokenize import word_tokenize\n",
    "from collections import defaultdict"
   ]
  },
  {
   "cell_type": "code",
   "execution_count": 6,
   "outputs": [],
   "source": [
    "statement = \"Hello my name is tiger!\""
   ],
   "metadata": {
    "collapsed": false,
    "ExecuteTime": {
     "end_time": "2024-09-16T09:17:36.188916Z",
     "start_time": "2024-09-16T09:17:36.184991Z"
    }
   },
   "id": "bc45168ca4b03239"
  },
  {
   "cell_type": "code",
   "execution_count": 7,
   "outputs": [
    {
     "data": {
      "text/plain": "['Hello', 'my', 'name', 'is', 'tiger', '!']"
     },
     "execution_count": 7,
     "metadata": {},
     "output_type": "execute_result"
    }
   ],
   "source": [
    "tokens = word_tokenize(statement)\n",
    "tokens"
   ],
   "metadata": {
    "collapsed": false,
    "ExecuteTime": {
     "end_time": "2024-09-16T09:17:45.855832Z",
     "start_time": "2024-09-16T09:17:45.839324Z"
    }
   },
   "id": "652576f6913e7905"
  },
  {
   "cell_type": "code",
   "execution_count": 13,
   "outputs": [],
   "source": [
    "documents = [\n",
    "    \"I love programming in Python as programming is interesting\",\n",
    "    \"I think Phonetic spell correction is interesting\",\n",
    "    \"Soundex is a useful algorithm for spelling\"\n",
    "]"
   ],
   "metadata": {
    "collapsed": false,
    "ExecuteTime": {
     "end_time": "2024-09-16T09:24:47.335358Z",
     "start_time": "2024-09-16T09:24:47.330256Z"
    }
   },
   "id": "883d3c8015600370"
  },
  {
   "cell_type": "code",
   "execution_count": 14,
   "outputs": [
    {
     "name": "stdout",
     "output_type": "stream",
     "text": [
      "The tokenization for doc 0  yielded :  ['i', 'love', 'programming', 'in', 'python', 'as', 'programming', 'is', 'interesting']\n",
      "The tokenization for doc 1  yielded :  ['i', 'think', 'phonetic', 'spell', 'correction', 'is', 'interesting']\n",
      "The tokenization for doc 2  yielded :  ['soundex', 'is', 'a', 'useful', 'algorithm', 'for', 'spelling']\n",
      "defaultdict(<class 'dict'>, {'i': {0: 1, 1: 1}, 'love': {0: 1}, 'programming': {0: 2}, 'in': {0: 1}, 'python': {0: 1}, 'as': {0: 1}, 'is': {0: 1, 1: 1, 2: 1}, 'interesting': {0: 1, 1: 1}, 'think': {1: 1}, 'phonetic': {1: 1}, 'spell': {1: 1}, 'correction': {1: 1}, 'soundex': {2: 1}, 'a': {2: 1}, 'useful': {2: 1}, 'algorithm': {2: 1}, 'for': {2: 1}, 'spelling': {2: 1}})\n"
     ]
    }
   ],
   "source": [
    "term_frequency = defaultdict(dict)\n",
    "for doc_id, doc in enumerate(documents):\n",
    "    tokens = doc.lower().split()\n",
    "    print(\"The tokenization for doc\" ,doc_id, \" yielded : \", tokens)\n",
    "    for token in tokens:\n",
    "        if token in term_frequency:\n",
    "            term_frequency[token][doc_id] = term_frequency[token].get(doc_id,0) + 1\n",
    "        else:\n",
    "            term_frequency[token][doc_id] = 1 \n",
    "print(term_frequency)"
   ],
   "metadata": {
    "collapsed": false,
    "ExecuteTime": {
     "end_time": "2024-09-16T09:24:47.785295Z",
     "start_time": "2024-09-16T09:24:47.780887Z"
    }
   },
   "id": "5ae419bf8adfeada"
  },
  {
   "cell_type": "code",
   "execution_count": 15,
   "outputs": [
    {
     "name": "stdout",
     "output_type": "stream",
     "text": [
      "i: {0: 1, 1: 1}\n",
      "love: {0: 1}\n",
      "programming: {0: 2}\n",
      "in: {0: 1}\n",
      "python: {0: 1}\n",
      "as: {0: 1}\n",
      "is: {0: 1, 1: 1, 2: 1}\n",
      "interesting: {0: 1, 1: 1}\n",
      "think: {1: 1}\n",
      "phonetic: {1: 1}\n",
      "spell: {1: 1}\n",
      "correction: {1: 1}\n",
      "soundex: {2: 1}\n",
      "a: {2: 1}\n",
      "useful: {2: 1}\n",
      "algorithm: {2: 1}\n",
      "for: {2: 1}\n",
      "spelling: {2: 1}\n"
     ]
    }
   ],
   "source": [
    "# Output the term frequency matrix\n",
    "for term, doc_freq in term_frequency.items():\n",
    "    print(f\"{term}: {doc_freq}\")\n"
   ],
   "metadata": {
    "collapsed": false,
    "ExecuteTime": {
     "end_time": "2024-09-16T09:25:56.770635Z",
     "start_time": "2024-09-16T09:25:56.764512Z"
    }
   },
   "id": "3a66555e95ab71b5"
  },
  {
   "cell_type": "code",
   "execution_count": 44,
   "outputs": [],
   "source": [
    "import nltk\n",
    "from collections import defaultdict\n",
    "from nltk.util import ngrams"
   ],
   "metadata": {
    "collapsed": false,
    "ExecuteTime": {
     "end_time": "2024-09-16T17:05:54.787193Z",
     "start_time": "2024-09-16T17:05:54.779022Z"
    }
   },
   "id": "5098069a855c1a9f"
  },
  {
   "cell_type": "code",
   "execution_count": 36,
   "outputs": [],
   "source": [
    "# Tokenization\n",
    "def tokenize(text):\n",
    "    return nltk.word_tokenize(text)\n",
    "\n",
    "# Inverted Index Construction\n",
    "def build_inverted_index(documents):\n",
    "    inverted_index = defaultdict(list)\n",
    "    for doc_id, text in enumerate(documents):\n",
    "        tokens = tokenize(text)\n",
    "        for token in tokens:\n",
    "            inverted_index[token].append(doc_id)\n",
    "    return inverted_index\n",
    "\n",
    "\n",
    "documents = [\n",
    "    \"I love programming in Python\",\n",
    "    \"Phonetic spell correction is interesting\",\n",
    "    \"Soundex is a useful algorithm for spelling\"\n",
    "]"
   ],
   "metadata": {
    "collapsed": false,
    "ExecuteTime": {
     "end_time": "2024-09-16T17:00:16.670754Z",
     "start_time": "2024-09-16T17:00:16.662546Z"
    }
   },
   "id": "74f09058ff4c1e97"
  },
  {
   "cell_type": "code",
   "execution_count": 42,
   "outputs": [],
   "source": [
    "# Generate n-grams (n-character n-grams, default is 3)\n",
    "def generate_ngrams(word, n=3):\n",
    "    return [''.join(gram) for gram in ngrams(word, n)]\n",
    "\n",
    "# N-Gram Based Spell Correction\n",
    "def spell_correction_ngram(word, vocabulary, n=3):\n",
    "    word_ngrams = set(generate_ngrams(word, n))  # Generate n-grams for the misspelled word\n",
    "    best_match = None\n",
    "    max_overlap = 0\n",
    "\n",
    "    for vocab_word in vocabulary:\n",
    "        vocab_ngrams = set(generate_ngrams(vocab_word, n))  # Generate n-grams for the vocabulary word\n",
    "        overlap = len(word_ngrams & vocab_ngrams)  # Calculate the overlap between the n-grams\n",
    "        total_ngrams = len(word_ngrams | vocab_ngrams)  # Total n-grams (union)\n",
    "        \n",
    "        # Calculate Jaccard similarity\n",
    "        similarity = overlap / total_ngrams if total_ngrams > 0 else 0\n",
    "        \n",
    "        # Update best match if this word has more overlap\n",
    "        if similarity > max_overlap:\n",
    "            max_overlap = similarity\n",
    "            best_match = vocab_word\n",
    "    \n",
    "    return best_match\n",
    "\n",
    "# Soundex Algorithm for Phonetic Spell Correction\n",
    "def soundex(word):\n",
    "    \"\"\"Returns the soundex code for the word.\"\"\"\n",
    "    word = word.upper()\n",
    "    soundex_code = word[0]\n",
    "\n",
    "    soundex_mapping = {\n",
    "        \"BFPV\": \"1\", \"CGJKQSXZ\": \"2\", \"DT\": \"3\", \"L\": \"4\",\n",
    "        \"MN\": \"5\", \"R\": \"6\"\n",
    "    }\n",
    "\n",
    "    for char in word[1:]:\n",
    "        for key in soundex_mapping.keys():\n",
    "            if char in key:\n",
    "                code = soundex_mapping[key]\n",
    "                if code != soundex_code[-1]:  # Avoid duplicates\n",
    "                    soundex_code += code\n",
    "                break\n",
    "        if len(soundex_code) == 4:\n",
    "            break\n",
    "\n",
    "    soundex_code = (soundex_code + \"000\")[:4]  # Pad with zeros if necessary\n",
    "    return soundex_code\n",
    "\n",
    "def spell_correction_soundex(word, vocabulary):\n",
    "    \"\"\"Corrects spelling using Soundex codes.\"\"\"\n",
    "    word_soundex = soundex(word)\n",
    "    for vocab_word in vocabulary:\n",
    "        if soundex(vocab_word) == word_soundex:\n",
    "            return vocab_word\n",
    "    return word\n",
    "\n",
    "# Example Usage"
   ],
   "metadata": {
    "collapsed": false,
    "ExecuteTime": {
     "end_time": "2024-09-16T17:05:20.215128Z",
     "start_time": "2024-09-16T17:05:20.211704Z"
    }
   },
   "id": "c393178a34960d69"
  },
  {
   "cell_type": "code",
   "execution_count": 37,
   "outputs": [
    {
     "data": {
      "text/plain": "['I', 'love', 'programming', 'in', 'Python']"
     },
     "execution_count": 37,
     "metadata": {},
     "output_type": "execute_result"
    }
   ],
   "source": [
    "# Tokenize and build inverted index\n",
    "tokens = tokenize(documents[0])\n",
    "tokens\n"
   ],
   "metadata": {
    "collapsed": false,
    "ExecuteTime": {
     "end_time": "2024-09-16T17:00:29.902772Z",
     "start_time": "2024-09-16T17:00:29.899135Z"
    }
   },
   "id": "8f924222988e8ed2"
  },
  {
   "cell_type": "code",
   "execution_count": 39,
   "outputs": [
    {
     "data": {
      "text/plain": "defaultdict(list,\n            {'I': [0],\n             'love': [0],\n             'programming': [0],\n             'in': [0],\n             'Python': [0],\n             'Phonetic': [1],\n             'spell': [1],\n             'correction': [1],\n             'is': [1, 2],\n             'interesting': [1],\n             'Soundex': [2],\n             'a': [2],\n             'useful': [2],\n             'algorithm': [2],\n             'for': [2],\n             'spelling': [2]})"
     },
     "execution_count": 39,
     "metadata": {},
     "output_type": "execute_result"
    }
   ],
   "source": [
    "inverted_index = build_inverted_index(documents)\n",
    "inverted_index"
   ],
   "metadata": {
    "collapsed": false,
    "ExecuteTime": {
     "end_time": "2024-09-16T17:01:28.007153Z",
     "start_time": "2024-09-16T17:01:28.001411Z"
    }
   },
   "id": "6b7f2959d1ef109"
  },
  {
   "cell_type": "code",
   "execution_count": 40,
   "outputs": [
    {
     "data": {
      "text/plain": "['I',\n 'love',\n 'programming',\n 'in',\n 'Python',\n 'Phonetic',\n 'spell',\n 'correction',\n 'is',\n 'interesting',\n 'Soundex',\n 'a',\n 'useful',\n 'algorithm',\n 'for',\n 'spelling']"
     },
     "execution_count": 40,
     "metadata": {},
     "output_type": "execute_result"
    }
   ],
   "source": [
    "# Test Spell Correction\n",
    "vocabulary = list(inverted_index.keys())\n",
    "vocabulary"
   ],
   "metadata": {
    "collapsed": false,
    "ExecuteTime": {
     "end_time": "2024-09-16T17:04:12.851235Z",
     "start_time": "2024-09-16T17:04:12.845229Z"
    }
   },
   "id": "a0101498462937c"
  },
  {
   "cell_type": "code",
   "execution_count": 41,
   "outputs": [
    {
     "name": "stdout",
     "output_type": "stream",
     "text": [
      "N-Gram Corrected Word: Phonetic\n"
     ]
    }
   ],
   "source": [
    "misspelled_word = \"phonetick\"  # Intentional typo\n",
    "\n",
    "# N-Gram Based Correction\n",
    "corrected_ngram = spell_correction_ngram(misspelled_word, vocabulary)\n",
    "print(f\"N-Gram Corrected Word: {corrected_ngram}\")\n"
   ],
   "metadata": {
    "collapsed": false,
    "ExecuteTime": {
     "end_time": "2024-09-16T17:04:55.856637Z",
     "start_time": "2024-09-16T17:04:55.848349Z"
    }
   },
   "id": "aabf5d61c4fca4d"
  },
  {
   "cell_type": "code",
   "execution_count": 43,
   "outputs": [
    {
     "name": "stdout",
     "output_type": "stream",
     "text": [
      "Soundex Corrected Word: Phonetic\n"
     ]
    }
   ],
   "source": [
    "\n",
    "# Soundex-Based Correction\n",
    "corrected_soundex = spell_correction_soundex(misspelled_word, vocabulary)\n",
    "print(f\"Soundex Corrected Word: {corrected_soundex}\")\n"
   ],
   "metadata": {
    "collapsed": false,
    "ExecuteTime": {
     "end_time": "2024-09-16T17:05:24.694806Z",
     "start_time": "2024-09-16T17:05:24.671490Z"
    }
   },
   "id": "8241c4e8eea60758"
  },
  {
   "cell_type": "code",
   "execution_count": null,
   "outputs": [],
   "source": [],
   "metadata": {
    "collapsed": false
   },
   "id": "d8d1f0274a54442d"
  }
 ],
 "metadata": {
  "kernelspec": {
   "display_name": "Python 3",
   "language": "python",
   "name": "python3"
  },
  "language_info": {
   "codemirror_mode": {
    "name": "ipython",
    "version": 2
   },
   "file_extension": ".py",
   "mimetype": "text/x-python",
   "name": "python",
   "nbconvert_exporter": "python",
   "pygments_lexer": "ipython2",
   "version": "2.7.6"
  }
 },
 "nbformat": 4,
 "nbformat_minor": 5
}
