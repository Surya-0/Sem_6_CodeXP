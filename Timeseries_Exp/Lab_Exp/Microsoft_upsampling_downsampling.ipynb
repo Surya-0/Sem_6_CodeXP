{
 "cells": [
  {
   "cell_type": "code",
   "execution_count": 1,
   "id": "initial_id",
   "metadata": {
    "ExecuteTime": {
     "end_time": "2024-09-12T19:54:38.475667Z",
     "start_time": "2024-09-12T19:54:37.809512Z"
    }
   },
   "outputs": [],
   "source": [
    "import numpy as np\n",
    "import pandas as pd\n",
    "import matplotlib.pyplot as plt"
   ]
  },
  {
   "cell_type": "markdown",
   "id": "1a63171a27670f0e",
   "metadata": {
    "collapsed": false,
    "jupyter": {
     "outputs_hidden": false
    }
   },
   "source": [
    "Q: How is resampling used in time series data?\n",
    "Ans : Resampling in time series data involves changing the frequency of the time series observations. It can be used to either upsample (increase the frequency) or down-sample (decrease the frequency) the data.This is done to increase the size of the dataset or decrease the size of the dataset to fulfill\n",
    "our requirements."
   ]
  },
  {
   "cell_type": "markdown",
   "id": "8c6a5a7033aaa9bc",
   "metadata": {
    "collapsed": false,
    "jupyter": {
     "outputs_hidden": false
    }
   },
   "source": [
    "Q:How the resampling in time series data differs from other cross - sectional data/ panel data/ numerical data?\n",
    "Ans: Time Series Data: Resampling involves changing the frequency of observations based on time intervals (e.g., daily, monthly). It often requires handling missing values and ensuring temporal continuity.\n",
    "Cross-Sectional Data: Resampling is not typically applicable as this data type represents observations at a single point in time.\n",
    "Panel Data: Resampling might involve aggregating or disaggregating data across different time periods for multiple entities.\n",
    "Numerical Data: Resampling can involve techniques like bootstrapping to create multiple samples from the data for statistical analysis."
   ]
  },
  {
   "cell_type": "markdown",
   "id": "52d6b7f495643368",
   "metadata": {
    "collapsed": false,
    "jupyter": {
     "outputs_hidden": false
    }
   },
   "source": [
    "Q: What are the different ways/types of interpolation applied on a time series data?\n",
    "Ans: Linear interpolation, spline interpolation,nearest - neighbour interpolation,polynomial interpolation"
   ]
  },
  {
   "cell_type": "markdown",
   "id": "f5678ba90d9b68cd",
   "metadata": {
    "collapsed": false,
    "jupyter": {
     "outputs_hidden": false
    }
   },
   "source": [
    "Q:How extrapolation and time series forecasting are related?\n",
    "Ans: Extrapolation: Extends the existing data trend beyond the observed range to predict future values.\n",
    "Time Series Forecasting: Uses historical data and statistical models to predict future values, often incorporating trends, seasonality, and other patterns."
   ]
  },
  {
   "cell_type": "code",
   "execution_count": 22,
   "id": "e0eb11190e73378c",
   "metadata": {
    "ExecuteTime": {
     "end_time": "2024-09-12T20:03:00.352068Z",
     "start_time": "2024-09-12T20:03:00.336424Z"
    },
    "collapsed": false,
    "jupyter": {
     "outputs_hidden": false
    }
   },
   "outputs": [
    {
     "data": {
      "text/html": [
       "<div>\n",
       "<style scoped>\n",
       "    .dataframe tbody tr th:only-of-type {\n",
       "        vertical-align: middle;\n",
       "    }\n",
       "\n",
       "    .dataframe tbody tr th {\n",
       "        vertical-align: top;\n",
       "    }\n",
       "\n",
       "    .dataframe thead th {\n",
       "        text-align: right;\n",
       "    }\n",
       "</style>\n",
       "<table border=\"1\" class=\"dataframe\">\n",
       "  <thead>\n",
       "    <tr style=\"text-align: right;\">\n",
       "      <th></th>\n",
       "      <th>Date</th>\n",
       "      <th>Open</th>\n",
       "      <th>High</th>\n",
       "      <th>Low</th>\n",
       "      <th>Close</th>\n",
       "      <th>Volume</th>\n",
       "    </tr>\n",
       "  </thead>\n",
       "  <tbody>\n",
       "    <tr>\n",
       "      <th>0</th>\n",
       "      <td>4/1/2015 16:00:00</td>\n",
       "      <td>40.60</td>\n",
       "      <td>40.76</td>\n",
       "      <td>40.31</td>\n",
       "      <td>40.72</td>\n",
       "      <td>36865322</td>\n",
       "    </tr>\n",
       "    <tr>\n",
       "      <th>1</th>\n",
       "      <td>4/2/2015 16:00:00</td>\n",
       "      <td>40.66</td>\n",
       "      <td>40.74</td>\n",
       "      <td>40.12</td>\n",
       "      <td>40.29</td>\n",
       "      <td>37487476</td>\n",
       "    </tr>\n",
       "    <tr>\n",
       "      <th>2</th>\n",
       "      <td>4/6/2015 16:00:00</td>\n",
       "      <td>40.34</td>\n",
       "      <td>41.78</td>\n",
       "      <td>40.18</td>\n",
       "      <td>41.55</td>\n",
       "      <td>39223692</td>\n",
       "    </tr>\n",
       "    <tr>\n",
       "      <th>3</th>\n",
       "      <td>4/7/2015 16:00:00</td>\n",
       "      <td>41.61</td>\n",
       "      <td>41.91</td>\n",
       "      <td>41.31</td>\n",
       "      <td>41.53</td>\n",
       "      <td>28809375</td>\n",
       "    </tr>\n",
       "    <tr>\n",
       "      <th>4</th>\n",
       "      <td>4/8/2015 16:00:00</td>\n",
       "      <td>41.48</td>\n",
       "      <td>41.69</td>\n",
       "      <td>41.04</td>\n",
       "      <td>41.42</td>\n",
       "      <td>24753438</td>\n",
       "    </tr>\n",
       "    <tr>\n",
       "      <th>...</th>\n",
       "      <td>...</td>\n",
       "      <td>...</td>\n",
       "      <td>...</td>\n",
       "      <td>...</td>\n",
       "      <td>...</td>\n",
       "      <td>...</td>\n",
       "    </tr>\n",
       "    <tr>\n",
       "      <th>1506</th>\n",
       "      <td>3/25/2021 16:00:00</td>\n",
       "      <td>235.30</td>\n",
       "      <td>236.94</td>\n",
       "      <td>231.57</td>\n",
       "      <td>232.34</td>\n",
       "      <td>34061853</td>\n",
       "    </tr>\n",
       "    <tr>\n",
       "      <th>1507</th>\n",
       "      <td>3/26/2021 16:00:00</td>\n",
       "      <td>231.55</td>\n",
       "      <td>236.71</td>\n",
       "      <td>231.55</td>\n",
       "      <td>236.48</td>\n",
       "      <td>25479853</td>\n",
       "    </tr>\n",
       "    <tr>\n",
       "      <th>1508</th>\n",
       "      <td>3/29/2021 16:00:00</td>\n",
       "      <td>236.59</td>\n",
       "      <td>236.80</td>\n",
       "      <td>231.88</td>\n",
       "      <td>235.24</td>\n",
       "      <td>25227455</td>\n",
       "    </tr>\n",
       "    <tr>\n",
       "      <th>1509</th>\n",
       "      <td>3/30/2021 16:00:00</td>\n",
       "      <td>233.53</td>\n",
       "      <td>233.85</td>\n",
       "      <td>231.10</td>\n",
       "      <td>231.85</td>\n",
       "      <td>24792012</td>\n",
       "    </tr>\n",
       "    <tr>\n",
       "      <th>1510</th>\n",
       "      <td>3/31/2021 16:00:00</td>\n",
       "      <td>232.91</td>\n",
       "      <td>239.10</td>\n",
       "      <td>232.39</td>\n",
       "      <td>235.77</td>\n",
       "      <td>43623471</td>\n",
       "    </tr>\n",
       "  </tbody>\n",
       "</table>\n",
       "<p>1511 rows × 6 columns</p>\n",
       "</div>"
      ],
      "text/plain": [
       "                    Date    Open    High     Low   Close    Volume\n",
       "0      4/1/2015 16:00:00   40.60   40.76   40.31   40.72  36865322\n",
       "1      4/2/2015 16:00:00   40.66   40.74   40.12   40.29  37487476\n",
       "2      4/6/2015 16:00:00   40.34   41.78   40.18   41.55  39223692\n",
       "3      4/7/2015 16:00:00   41.61   41.91   41.31   41.53  28809375\n",
       "4      4/8/2015 16:00:00   41.48   41.69   41.04   41.42  24753438\n",
       "...                  ...     ...     ...     ...     ...       ...\n",
       "1506  3/25/2021 16:00:00  235.30  236.94  231.57  232.34  34061853\n",
       "1507  3/26/2021 16:00:00  231.55  236.71  231.55  236.48  25479853\n",
       "1508  3/29/2021 16:00:00  236.59  236.80  231.88  235.24  25227455\n",
       "1509  3/30/2021 16:00:00  233.53  233.85  231.10  231.85  24792012\n",
       "1510  3/31/2021 16:00:00  232.91  239.10  232.39  235.77  43623471\n",
       "\n",
       "[1511 rows x 6 columns]"
      ]
     },
     "execution_count": 22,
     "metadata": {},
     "output_type": "execute_result"
    }
   ],
   "source": [
    "df = pd.read_csv('Microsoft_Stock.csv')\n",
    "df"
   ]
  },
  {
   "cell_type": "code",
   "execution_count": 23,
   "id": "48ee2382fe90fc60",
   "metadata": {
    "ExecuteTime": {
     "end_time": "2024-09-12T20:03:00.950769Z",
     "start_time": "2024-09-12T20:03:00.949010Z"
    },
    "collapsed": false,
    "jupyter": {
     "outputs_hidden": false
    }
   },
   "outputs": [],
   "source": [
    "df['Date'] = pd.to_datetime(df['Date'])"
   ]
  },
  {
   "cell_type": "code",
   "execution_count": 24,
   "id": "9dacfd1a5b92e828",
   "metadata": {
    "ExecuteTime": {
     "end_time": "2024-09-12T20:03:01.612995Z",
     "start_time": "2024-09-12T20:03:01.609533Z"
    },
    "collapsed": false,
    "jupyter": {
     "outputs_hidden": false
    }
   },
   "outputs": [
    {
     "data": {
      "text/html": [
       "<div>\n",
       "<style scoped>\n",
       "    .dataframe tbody tr th:only-of-type {\n",
       "        vertical-align: middle;\n",
       "    }\n",
       "\n",
       "    .dataframe tbody tr th {\n",
       "        vertical-align: top;\n",
       "    }\n",
       "\n",
       "    .dataframe thead th {\n",
       "        text-align: right;\n",
       "    }\n",
       "</style>\n",
       "<table border=\"1\" class=\"dataframe\">\n",
       "  <thead>\n",
       "    <tr style=\"text-align: right;\">\n",
       "      <th></th>\n",
       "      <th>Date</th>\n",
       "      <th>Open</th>\n",
       "      <th>High</th>\n",
       "      <th>Low</th>\n",
       "      <th>Close</th>\n",
       "      <th>Volume</th>\n",
       "    </tr>\n",
       "  </thead>\n",
       "  <tbody>\n",
       "    <tr>\n",
       "      <th>0</th>\n",
       "      <td>2015-04-01 16:00:00</td>\n",
       "      <td>40.60</td>\n",
       "      <td>40.76</td>\n",
       "      <td>40.31</td>\n",
       "      <td>40.72</td>\n",
       "      <td>36865322</td>\n",
       "    </tr>\n",
       "    <tr>\n",
       "      <th>1</th>\n",
       "      <td>2015-04-02 16:00:00</td>\n",
       "      <td>40.66</td>\n",
       "      <td>40.74</td>\n",
       "      <td>40.12</td>\n",
       "      <td>40.29</td>\n",
       "      <td>37487476</td>\n",
       "    </tr>\n",
       "    <tr>\n",
       "      <th>2</th>\n",
       "      <td>2015-04-06 16:00:00</td>\n",
       "      <td>40.34</td>\n",
       "      <td>41.78</td>\n",
       "      <td>40.18</td>\n",
       "      <td>41.55</td>\n",
       "      <td>39223692</td>\n",
       "    </tr>\n",
       "    <tr>\n",
       "      <th>3</th>\n",
       "      <td>2015-04-07 16:00:00</td>\n",
       "      <td>41.61</td>\n",
       "      <td>41.91</td>\n",
       "      <td>41.31</td>\n",
       "      <td>41.53</td>\n",
       "      <td>28809375</td>\n",
       "    </tr>\n",
       "    <tr>\n",
       "      <th>4</th>\n",
       "      <td>2015-04-08 16:00:00</td>\n",
       "      <td>41.48</td>\n",
       "      <td>41.69</td>\n",
       "      <td>41.04</td>\n",
       "      <td>41.42</td>\n",
       "      <td>24753438</td>\n",
       "    </tr>\n",
       "    <tr>\n",
       "      <th>...</th>\n",
       "      <td>...</td>\n",
       "      <td>...</td>\n",
       "      <td>...</td>\n",
       "      <td>...</td>\n",
       "      <td>...</td>\n",
       "      <td>...</td>\n",
       "    </tr>\n",
       "    <tr>\n",
       "      <th>1506</th>\n",
       "      <td>2021-03-25 16:00:00</td>\n",
       "      <td>235.30</td>\n",
       "      <td>236.94</td>\n",
       "      <td>231.57</td>\n",
       "      <td>232.34</td>\n",
       "      <td>34061853</td>\n",
       "    </tr>\n",
       "    <tr>\n",
       "      <th>1507</th>\n",
       "      <td>2021-03-26 16:00:00</td>\n",
       "      <td>231.55</td>\n",
       "      <td>236.71</td>\n",
       "      <td>231.55</td>\n",
       "      <td>236.48</td>\n",
       "      <td>25479853</td>\n",
       "    </tr>\n",
       "    <tr>\n",
       "      <th>1508</th>\n",
       "      <td>2021-03-29 16:00:00</td>\n",
       "      <td>236.59</td>\n",
       "      <td>236.80</td>\n",
       "      <td>231.88</td>\n",
       "      <td>235.24</td>\n",
       "      <td>25227455</td>\n",
       "    </tr>\n",
       "    <tr>\n",
       "      <th>1509</th>\n",
       "      <td>2021-03-30 16:00:00</td>\n",
       "      <td>233.53</td>\n",
       "      <td>233.85</td>\n",
       "      <td>231.10</td>\n",
       "      <td>231.85</td>\n",
       "      <td>24792012</td>\n",
       "    </tr>\n",
       "    <tr>\n",
       "      <th>1510</th>\n",
       "      <td>2021-03-31 16:00:00</td>\n",
       "      <td>232.91</td>\n",
       "      <td>239.10</td>\n",
       "      <td>232.39</td>\n",
       "      <td>235.77</td>\n",
       "      <td>43623471</td>\n",
       "    </tr>\n",
       "  </tbody>\n",
       "</table>\n",
       "<p>1511 rows × 6 columns</p>\n",
       "</div>"
      ],
      "text/plain": [
       "                    Date    Open    High     Low   Close    Volume\n",
       "0    2015-04-01 16:00:00   40.60   40.76   40.31   40.72  36865322\n",
       "1    2015-04-02 16:00:00   40.66   40.74   40.12   40.29  37487476\n",
       "2    2015-04-06 16:00:00   40.34   41.78   40.18   41.55  39223692\n",
       "3    2015-04-07 16:00:00   41.61   41.91   41.31   41.53  28809375\n",
       "4    2015-04-08 16:00:00   41.48   41.69   41.04   41.42  24753438\n",
       "...                  ...     ...     ...     ...     ...       ...\n",
       "1506 2021-03-25 16:00:00  235.30  236.94  231.57  232.34  34061853\n",
       "1507 2021-03-26 16:00:00  231.55  236.71  231.55  236.48  25479853\n",
       "1508 2021-03-29 16:00:00  236.59  236.80  231.88  235.24  25227455\n",
       "1509 2021-03-30 16:00:00  233.53  233.85  231.10  231.85  24792012\n",
       "1510 2021-03-31 16:00:00  232.91  239.10  232.39  235.77  43623471\n",
       "\n",
       "[1511 rows x 6 columns]"
      ]
     },
     "execution_count": 24,
     "metadata": {},
     "output_type": "execute_result"
    }
   ],
   "source": [
    "df"
   ]
  },
  {
   "cell_type": "code",
   "execution_count": 25,
   "id": "b11c46f3917c6d82",
   "metadata": {
    "ExecuteTime": {
     "end_time": "2024-09-12T20:03:04.928113Z",
     "start_time": "2024-09-12T20:03:04.919505Z"
    },
    "collapsed": false,
    "jupyter": {
     "outputs_hidden": false
    }
   },
   "outputs": [],
   "source": [
    "df.set_index('Date', inplace=True)"
   ]
  },
  {
   "cell_type": "code",
   "execution_count": 26,
   "id": "288e986394e231b7",
   "metadata": {
    "ExecuteTime": {
     "end_time": "2024-09-12T20:03:05.534490Z",
     "start_time": "2024-09-12T20:03:05.526039Z"
    },
    "collapsed": false,
    "jupyter": {
     "outputs_hidden": false
    }
   },
   "outputs": [
    {
     "data": {
      "text/html": [
       "<div>\n",
       "<style scoped>\n",
       "    .dataframe tbody tr th:only-of-type {\n",
       "        vertical-align: middle;\n",
       "    }\n",
       "\n",
       "    .dataframe tbody tr th {\n",
       "        vertical-align: top;\n",
       "    }\n",
       "\n",
       "    .dataframe thead th {\n",
       "        text-align: right;\n",
       "    }\n",
       "</style>\n",
       "<table border=\"1\" class=\"dataframe\">\n",
       "  <thead>\n",
       "    <tr style=\"text-align: right;\">\n",
       "      <th></th>\n",
       "      <th>Open</th>\n",
       "      <th>High</th>\n",
       "      <th>Low</th>\n",
       "      <th>Close</th>\n",
       "      <th>Volume</th>\n",
       "    </tr>\n",
       "    <tr>\n",
       "      <th>Date</th>\n",
       "      <th></th>\n",
       "      <th></th>\n",
       "      <th></th>\n",
       "      <th></th>\n",
       "      <th></th>\n",
       "    </tr>\n",
       "  </thead>\n",
       "  <tbody>\n",
       "    <tr>\n",
       "      <th>2015-04-01 16:00:00</th>\n",
       "      <td>40.60</td>\n",
       "      <td>40.76</td>\n",
       "      <td>40.31</td>\n",
       "      <td>40.72</td>\n",
       "      <td>36865322</td>\n",
       "    </tr>\n",
       "    <tr>\n",
       "      <th>2015-04-02 16:00:00</th>\n",
       "      <td>40.66</td>\n",
       "      <td>40.74</td>\n",
       "      <td>40.12</td>\n",
       "      <td>40.29</td>\n",
       "      <td>37487476</td>\n",
       "    </tr>\n",
       "    <tr>\n",
       "      <th>2015-04-06 16:00:00</th>\n",
       "      <td>40.34</td>\n",
       "      <td>41.78</td>\n",
       "      <td>40.18</td>\n",
       "      <td>41.55</td>\n",
       "      <td>39223692</td>\n",
       "    </tr>\n",
       "    <tr>\n",
       "      <th>2015-04-07 16:00:00</th>\n",
       "      <td>41.61</td>\n",
       "      <td>41.91</td>\n",
       "      <td>41.31</td>\n",
       "      <td>41.53</td>\n",
       "      <td>28809375</td>\n",
       "    </tr>\n",
       "    <tr>\n",
       "      <th>2015-04-08 16:00:00</th>\n",
       "      <td>41.48</td>\n",
       "      <td>41.69</td>\n",
       "      <td>41.04</td>\n",
       "      <td>41.42</td>\n",
       "      <td>24753438</td>\n",
       "    </tr>\n",
       "    <tr>\n",
       "      <th>...</th>\n",
       "      <td>...</td>\n",
       "      <td>...</td>\n",
       "      <td>...</td>\n",
       "      <td>...</td>\n",
       "      <td>...</td>\n",
       "    </tr>\n",
       "    <tr>\n",
       "      <th>2021-03-25 16:00:00</th>\n",
       "      <td>235.30</td>\n",
       "      <td>236.94</td>\n",
       "      <td>231.57</td>\n",
       "      <td>232.34</td>\n",
       "      <td>34061853</td>\n",
       "    </tr>\n",
       "    <tr>\n",
       "      <th>2021-03-26 16:00:00</th>\n",
       "      <td>231.55</td>\n",
       "      <td>236.71</td>\n",
       "      <td>231.55</td>\n",
       "      <td>236.48</td>\n",
       "      <td>25479853</td>\n",
       "    </tr>\n",
       "    <tr>\n",
       "      <th>2021-03-29 16:00:00</th>\n",
       "      <td>236.59</td>\n",
       "      <td>236.80</td>\n",
       "      <td>231.88</td>\n",
       "      <td>235.24</td>\n",
       "      <td>25227455</td>\n",
       "    </tr>\n",
       "    <tr>\n",
       "      <th>2021-03-30 16:00:00</th>\n",
       "      <td>233.53</td>\n",
       "      <td>233.85</td>\n",
       "      <td>231.10</td>\n",
       "      <td>231.85</td>\n",
       "      <td>24792012</td>\n",
       "    </tr>\n",
       "    <tr>\n",
       "      <th>2021-03-31 16:00:00</th>\n",
       "      <td>232.91</td>\n",
       "      <td>239.10</td>\n",
       "      <td>232.39</td>\n",
       "      <td>235.77</td>\n",
       "      <td>43623471</td>\n",
       "    </tr>\n",
       "  </tbody>\n",
       "</table>\n",
       "<p>1511 rows × 5 columns</p>\n",
       "</div>"
      ],
      "text/plain": [
       "                       Open    High     Low   Close    Volume\n",
       "Date                                                         \n",
       "2015-04-01 16:00:00   40.60   40.76   40.31   40.72  36865322\n",
       "2015-04-02 16:00:00   40.66   40.74   40.12   40.29  37487476\n",
       "2015-04-06 16:00:00   40.34   41.78   40.18   41.55  39223692\n",
       "2015-04-07 16:00:00   41.61   41.91   41.31   41.53  28809375\n",
       "2015-04-08 16:00:00   41.48   41.69   41.04   41.42  24753438\n",
       "...                     ...     ...     ...     ...       ...\n",
       "2021-03-25 16:00:00  235.30  236.94  231.57  232.34  34061853\n",
       "2021-03-26 16:00:00  231.55  236.71  231.55  236.48  25479853\n",
       "2021-03-29 16:00:00  236.59  236.80  231.88  235.24  25227455\n",
       "2021-03-30 16:00:00  233.53  233.85  231.10  231.85  24792012\n",
       "2021-03-31 16:00:00  232.91  239.10  232.39  235.77  43623471\n",
       "\n",
       "[1511 rows x 5 columns]"
      ]
     },
     "execution_count": 26,
     "metadata": {},
     "output_type": "execute_result"
    }
   ],
   "source": [
    "df"
   ]
  },
  {
   "cell_type": "code",
   "execution_count": 27,
   "id": "8028ce88fc705af8",
   "metadata": {
    "ExecuteTime": {
     "end_time": "2024-09-12T20:03:12.820591Z",
     "start_time": "2024-09-12T20:03:12.693575Z"
    },
    "collapsed": false,
    "jupyter": {
     "outputs_hidden": false
    }
   },
   "outputs": [
    {
     "data": {
      "image/png": "[encoded data removed]",
      "text/plain": [
       "<Figure size 640x480 with 1 Axes>"
      ]
     },
     "metadata": {},
     "output_type": "display_data"
    }
   ],
   "source": [
    "df.plot()\n",
    "plt.show()"
   ]
  },
  {
   "cell_type": "code",
   "execution_count": 28,
   "id": "a28aeeb48cde8ba",
   "metadata": {
    "ExecuteTime": {
     "end_time": "2024-09-12T20:03:15.899081Z",
     "start_time": "2024-09-12T20:03:15.892917Z"
    },
    "collapsed": false,
    "jupyter": {
     "outputs_hidden": false
    }
   },
   "outputs": [],
   "source": [
    "upsampled_df = df.resample('D').mean()"
   ]
  },
  {
   "cell_type": "code",
   "execution_count": 29,
   "id": "a6aec05471c9bf52",
   "metadata": {
    "ExecuteTime": {
     "end_time": "2024-09-12T20:03:16.440696Z",
     "start_time": "2024-09-12T20:03:16.436035Z"
    },
    "collapsed": false,
    "jupyter": {
     "outputs_hidden": false
    }
   },
   "outputs": [
    {
     "data": {
      "text/html": [
       "<div>\n",
       "<style scoped>\n",
       "    .dataframe tbody tr th:only-of-type {\n",
       "        vertical-align: middle;\n",
       "    }\n",
       "\n",
       "    .dataframe tbody tr th {\n",
       "        vertical-align: top;\n",
       "    }\n",
       "\n",
       "    .dataframe thead th {\n",
       "        text-align: right;\n",
       "    }\n",
       "</style>\n",
       "<table border=\"1\" class=\"dataframe\">\n",
       "  <thead>\n",
       "    <tr style=\"text-align: right;\">\n",
       "      <th></th>\n",
       "      <th>Open</th>\n",
       "      <th>High</th>\n",
       "      <th>Low</th>\n",
       "      <th>Close</th>\n",
       "      <th>Volume</th>\n",
       "    </tr>\n",
       "    <tr>\n",
       "      <th>Date</th>\n",
       "      <th></th>\n",
       "      <th></th>\n",
       "      <th></th>\n",
       "      <th></th>\n",
       "      <th></th>\n",
       "    </tr>\n",
       "  </thead>\n",
       "  <tbody>\n",
       "    <tr>\n",
       "      <th>2015-04-01</th>\n",
       "      <td>40.60</td>\n",
       "      <td>40.76</td>\n",
       "      <td>40.31</td>\n",
       "      <td>40.72</td>\n",
       "      <td>36865322.0</td>\n",
       "    </tr>\n",
       "    <tr>\n",
       "      <th>2015-04-02</th>\n",
       "      <td>40.66</td>\n",
       "      <td>40.74</td>\n",
       "      <td>40.12</td>\n",
       "      <td>40.29</td>\n",
       "      <td>37487476.0</td>\n",
       "    </tr>\n",
       "    <tr>\n",
       "      <th>2015-04-03</th>\n",
       "      <td>NaN</td>\n",
       "      <td>NaN</td>\n",
       "      <td>NaN</td>\n",
       "      <td>NaN</td>\n",
       "      <td>NaN</td>\n",
       "    </tr>\n",
       "    <tr>\n",
       "      <th>2015-04-04</th>\n",
       "      <td>NaN</td>\n",
       "      <td>NaN</td>\n",
       "      <td>NaN</td>\n",
       "      <td>NaN</td>\n",
       "      <td>NaN</td>\n",
       "    </tr>\n",
       "    <tr>\n",
       "      <th>2015-04-05</th>\n",
       "      <td>NaN</td>\n",
       "      <td>NaN</td>\n",
       "      <td>NaN</td>\n",
       "      <td>NaN</td>\n",
       "      <td>NaN</td>\n",
       "    </tr>\n",
       "    <tr>\n",
       "      <th>...</th>\n",
       "      <td>...</td>\n",
       "      <td>...</td>\n",
       "      <td>...</td>\n",
       "      <td>...</td>\n",
       "      <td>...</td>\n",
       "    </tr>\n",
       "    <tr>\n",
       "      <th>2021-03-27</th>\n",
       "      <td>NaN</td>\n",
       "      <td>NaN</td>\n",
       "      <td>NaN</td>\n",
       "      <td>NaN</td>\n",
       "      <td>NaN</td>\n",
       "    </tr>\n",
       "    <tr>\n",
       "      <th>2021-03-28</th>\n",
       "      <td>NaN</td>\n",
       "      <td>NaN</td>\n",
       "      <td>NaN</td>\n",
       "      <td>NaN</td>\n",
       "      <td>NaN</td>\n",
       "    </tr>\n",
       "    <tr>\n",
       "      <th>2021-03-29</th>\n",
       "      <td>236.59</td>\n",
       "      <td>236.80</td>\n",
       "      <td>231.88</td>\n",
       "      <td>235.24</td>\n",
       "      <td>25227455.0</td>\n",
       "    </tr>\n",
       "    <tr>\n",
       "      <th>2021-03-30</th>\n",
       "      <td>233.53</td>\n",
       "      <td>233.85</td>\n",
       "      <td>231.10</td>\n",
       "      <td>231.85</td>\n",
       "      <td>24792012.0</td>\n",
       "    </tr>\n",
       "    <tr>\n",
       "      <th>2021-03-31</th>\n",
       "      <td>232.91</td>\n",
       "      <td>239.10</td>\n",
       "      <td>232.39</td>\n",
       "      <td>235.77</td>\n",
       "      <td>43623471.0</td>\n",
       "    </tr>\n",
       "  </tbody>\n",
       "</table>\n",
       "<p>2192 rows × 5 columns</p>\n",
       "</div>"
      ],
      "text/plain": [
       "              Open    High     Low   Close      Volume\n",
       "Date                                                  \n",
       "2015-04-01   40.60   40.76   40.31   40.72  36865322.0\n",
       "2015-04-02   40.66   40.74   40.12   40.29  37487476.0\n",
       "2015-04-03     NaN     NaN     NaN     NaN         NaN\n",
       "2015-04-04     NaN     NaN     NaN     NaN         NaN\n",
       "2015-04-05     NaN     NaN     NaN     NaN         NaN\n",
       "...            ...     ...     ...     ...         ...\n",
       "2021-03-27     NaN     NaN     NaN     NaN         NaN\n",
       "2021-03-28     NaN     NaN     NaN     NaN         NaN\n",
       "2021-03-29  236.59  236.80  231.88  235.24  25227455.0\n",
       "2021-03-30  233.53  233.85  231.10  231.85  24792012.0\n",
       "2021-03-31  232.91  239.10  232.39  235.77  43623471.0\n",
       "\n",
       "[2192 rows x 5 columns]"
      ]
     },
     "execution_count": 29,
     "metadata": {},
     "output_type": "execute_result"
    }
   ],
   "source": [
    "upsampled_df"
   ]
  },
  {
   "cell_type": "code",
   "execution_count": 30,
   "id": "830c31ad77e34c6e",
   "metadata": {
    "ExecuteTime": {
     "end_time": "2024-09-12T20:03:17.187110Z",
     "start_time": "2024-09-12T20:03:17.067218Z"
    },
    "collapsed": false,
    "jupyter": {
     "outputs_hidden": false
    }
   },
   "outputs": [
    {
     "data": {
      "image/png": "[encoded data removed]",
      "text/plain": [
       "<Figure size 640x480 with 1 Axes>"
      ]
     },
     "metadata": {},
     "output_type": "display_data"
    }
   ],
   "source": [
    "upsampled_df.plot()\n",
    "plt.show()"
   ]
  },
  {
   "cell_type": "code",
   "execution_count": 31,
   "id": "e0069927c72d2f1e",
   "metadata": {
    "ExecuteTime": {
     "end_time": "2024-09-12T20:03:19.409878Z",
     "start_time": "2024-09-12T20:03:19.405541Z"
    },
    "collapsed": false,
    "jupyter": {
     "outputs_hidden": false
    }
   },
   "outputs": [],
   "source": [
    "upsampled_df_lin = upsampled_df.interpolate(method='linear')"
   ]
  },
  {
   "cell_type": "code",
   "execution_count": 32,
   "id": "42476e00191ed065",
   "metadata": {
    "ExecuteTime": {
     "end_time": "2024-09-12T20:03:20.472206Z",
     "start_time": "2024-09-12T20:03:20.300805Z"
    },
    "collapsed": false,
    "jupyter": {
     "outputs_hidden": false
    }
   },
   "outputs": [
    {
     "data": {
      "image/png": "[encoded data removed]",
      "text/plain": [
       "<Figure size 640x480 with 1 Axes>"
      ]
     },
     "metadata": {},
     "output_type": "display_data"
    }
   ],
   "source": [
    "upsampled_df_lin.plot()\n",
    "plt.show()"
   ]
  },
  {
   "cell_type": "code",
   "execution_count": 16,
   "id": "2f08826ed04fdbc2",
   "metadata": {
    "ExecuteTime": {
     "end_time": "2024-09-12T20:01:59.510296Z",
     "start_time": "2024-09-12T20:01:59.503703Z"
    },
    "collapsed": false,
    "jupyter": {
     "outputs_hidden": false
    }
   },
   "outputs": [
    {
     "data": {
      "text/html": [
       "<div>\n",
       "<style scoped>\n",
       "    .dataframe tbody tr th:only-of-type {\n",
       "        vertical-align: middle;\n",
       "    }\n",
       "\n",
       "    .dataframe tbody tr th {\n",
       "        vertical-align: top;\n",
       "    }\n",
       "\n",
       "    .dataframe thead th {\n",
       "        text-align: right;\n",
       "    }\n",
       "</style>\n",
       "<table border=\"1\" class=\"dataframe\">\n",
       "  <thead>\n",
       "    <tr style=\"text-align: right;\">\n",
       "      <th></th>\n",
       "      <th>Open</th>\n",
       "      <th>High</th>\n",
       "      <th>Low</th>\n",
       "      <th>Close</th>\n",
       "      <th>Volume</th>\n",
       "    </tr>\n",
       "    <tr>\n",
       "      <th>Date</th>\n",
       "      <th></th>\n",
       "      <th></th>\n",
       "      <th></th>\n",
       "      <th></th>\n",
       "      <th></th>\n",
       "    </tr>\n",
       "  </thead>\n",
       "  <tbody>\n",
       "    <tr>\n",
       "      <th>2015-04-01</th>\n",
       "      <td>40.60</td>\n",
       "      <td>40.76</td>\n",
       "      <td>40.310</td>\n",
       "      <td>40.720000</td>\n",
       "      <td>3.686532e+07</td>\n",
       "    </tr>\n",
       "    <tr>\n",
       "      <th>2015-04-02</th>\n",
       "      <td>40.66</td>\n",
       "      <td>40.74</td>\n",
       "      <td>40.120</td>\n",
       "      <td>40.290000</td>\n",
       "      <td>3.748748e+07</td>\n",
       "    </tr>\n",
       "    <tr>\n",
       "      <th>2015-04-03</th>\n",
       "      <td>40.58</td>\n",
       "      <td>41.00</td>\n",
       "      <td>40.135</td>\n",
       "      <td>40.605000</td>\n",
       "      <td>3.792153e+07</td>\n",
       "    </tr>\n",
       "    <tr>\n",
       "      <th>2015-04-04</th>\n",
       "      <td>40.50</td>\n",
       "      <td>41.26</td>\n",
       "      <td>40.150</td>\n",
       "      <td>40.920000</td>\n",
       "      <td>3.835558e+07</td>\n",
       "    </tr>\n",
       "    <tr>\n",
       "      <th>2015-04-05</th>\n",
       "      <td>40.42</td>\n",
       "      <td>41.52</td>\n",
       "      <td>40.165</td>\n",
       "      <td>41.235000</td>\n",
       "      <td>3.878964e+07</td>\n",
       "    </tr>\n",
       "    <tr>\n",
       "      <th>...</th>\n",
       "      <td>...</td>\n",
       "      <td>...</td>\n",
       "      <td>...</td>\n",
       "      <td>...</td>\n",
       "      <td>...</td>\n",
       "    </tr>\n",
       "    <tr>\n",
       "      <th>2021-03-27</th>\n",
       "      <td>233.23</td>\n",
       "      <td>236.74</td>\n",
       "      <td>231.660</td>\n",
       "      <td>236.066667</td>\n",
       "      <td>2.539572e+07</td>\n",
       "    </tr>\n",
       "    <tr>\n",
       "      <th>2021-03-28</th>\n",
       "      <td>234.91</td>\n",
       "      <td>236.77</td>\n",
       "      <td>231.770</td>\n",
       "      <td>235.653333</td>\n",
       "      <td>2.531159e+07</td>\n",
       "    </tr>\n",
       "    <tr>\n",
       "      <th>2021-03-29</th>\n",
       "      <td>236.59</td>\n",
       "      <td>236.80</td>\n",
       "      <td>231.880</td>\n",
       "      <td>235.240000</td>\n",
       "      <td>2.522746e+07</td>\n",
       "    </tr>\n",
       "    <tr>\n",
       "      <th>2021-03-30</th>\n",
       "      <td>233.53</td>\n",
       "      <td>233.85</td>\n",
       "      <td>231.100</td>\n",
       "      <td>231.850000</td>\n",
       "      <td>2.479201e+07</td>\n",
       "    </tr>\n",
       "    <tr>\n",
       "      <th>2021-03-31</th>\n",
       "      <td>232.91</td>\n",
       "      <td>239.10</td>\n",
       "      <td>232.390</td>\n",
       "      <td>235.770000</td>\n",
       "      <td>4.362347e+07</td>\n",
       "    </tr>\n",
       "  </tbody>\n",
       "</table>\n",
       "<p>2192 rows × 5 columns</p>\n",
       "</div>"
      ],
      "text/plain": [
       "              Open    High      Low       Close        Volume\n",
       "Date                                                         \n",
       "2015-04-01   40.60   40.76   40.310   40.720000  3.686532e+07\n",
       "2015-04-02   40.66   40.74   40.120   40.290000  3.748748e+07\n",
       "2015-04-03   40.58   41.00   40.135   40.605000  3.792153e+07\n",
       "2015-04-04   40.50   41.26   40.150   40.920000  3.835558e+07\n",
       "2015-04-05   40.42   41.52   40.165   41.235000  3.878964e+07\n",
       "...            ...     ...      ...         ...           ...\n",
       "2021-03-27  233.23  236.74  231.660  236.066667  2.539572e+07\n",
       "2021-03-28  234.91  236.77  231.770  235.653333  2.531159e+07\n",
       "2021-03-29  236.59  236.80  231.880  235.240000  2.522746e+07\n",
       "2021-03-30  233.53  233.85  231.100  231.850000  2.479201e+07\n",
       "2021-03-31  232.91  239.10  232.390  235.770000  4.362347e+07\n",
       "\n",
       "[2192 rows x 5 columns]"
      ]
     },
     "execution_count": 16,
     "metadata": {},
     "output_type": "execute_result"
    }
   ],
   "source": [
    "upsampled_df"
   ]
  },
  {
   "cell_type": "code",
   "execution_count": 33,
   "id": "3113ad03950637c4",
   "metadata": {
    "ExecuteTime": {
     "end_time": "2024-09-12T20:03:34.854105Z",
     "start_time": "2024-09-12T20:03:34.285568Z"
    },
    "collapsed": false,
    "jupyter": {
     "outputs_hidden": false
    }
   },
   "outputs": [],
   "source": [
    "upsampled_df_Q = upsampled_df.interpolate(method='spline',order = 2)"
   ]
  },
  {
   "cell_type": "code",
   "execution_count": 34,
   "id": "7c959d8edd6c51c2",
   "metadata": {
    "ExecuteTime": {
     "end_time": "2024-09-12T20:03:38.165643Z",
     "start_time": "2024-09-12T20:03:38.055266Z"
    },
    "collapsed": false,
    "jupyter": {
     "outputs_hidden": false
    }
   },
   "outputs": [
    {
     "data": {
      "image/png": "[encoded data removed]",
      "text/plain": [
       "<Figure size 640x480 with 1 Axes>"
      ]
     },
     "metadata": {},
     "output_type": "display_data"
    }
   ],
   "source": [
    "upsampled_df_Q.plot()\n",
    "plt.show()"
   ]
  },
  {
   "cell_type": "code",
   "execution_count": 35,
   "id": "d2bc54e1decbd634",
   "metadata": {
    "ExecuteTime": {
     "end_time": "2024-09-12T20:03:45.834069Z",
     "start_time": "2024-09-12T20:03:45.809375Z"
    },
    "collapsed": false,
    "jupyter": {
     "outputs_hidden": false
    }
   },
   "outputs": [
    {
     "data": {
      "text/html": [
       "<div>\n",
       "<style scoped>\n",
       "    .dataframe tbody tr th:only-of-type {\n",
       "        vertical-align: middle;\n",
       "    }\n",
       "\n",
       "    .dataframe tbody tr th {\n",
       "        vertical-align: top;\n",
       "    }\n",
       "\n",
       "    .dataframe thead th {\n",
       "        text-align: right;\n",
       "    }\n",
       "</style>\n",
       "<table border=\"1\" class=\"dataframe\">\n",
       "  <thead>\n",
       "    <tr style=\"text-align: right;\">\n",
       "      <th></th>\n",
       "      <th>Open</th>\n",
       "      <th>High</th>\n",
       "      <th>Low</th>\n",
       "      <th>Close</th>\n",
       "      <th>Volume</th>\n",
       "    </tr>\n",
       "    <tr>\n",
       "      <th>Date</th>\n",
       "      <th></th>\n",
       "      <th></th>\n",
       "      <th></th>\n",
       "      <th></th>\n",
       "      <th></th>\n",
       "    </tr>\n",
       "  </thead>\n",
       "  <tbody>\n",
       "    <tr>\n",
       "      <th>2015-04-01</th>\n",
       "      <td>40.600000</td>\n",
       "      <td>40.760000</td>\n",
       "      <td>40.310000</td>\n",
       "      <td>40.720000</td>\n",
       "      <td>3.686532e+07</td>\n",
       "    </tr>\n",
       "    <tr>\n",
       "      <th>2015-04-02</th>\n",
       "      <td>40.660000</td>\n",
       "      <td>40.740000</td>\n",
       "      <td>40.120000</td>\n",
       "      <td>40.290000</td>\n",
       "      <td>3.748748e+07</td>\n",
       "    </tr>\n",
       "    <tr>\n",
       "      <th>2015-04-03</th>\n",
       "      <td>40.915622</td>\n",
       "      <td>41.087495</td>\n",
       "      <td>40.601939</td>\n",
       "      <td>40.843460</td>\n",
       "      <td>3.971508e+07</td>\n",
       "    </tr>\n",
       "    <tr>\n",
       "      <th>2015-04-04</th>\n",
       "      <td>41.097598</td>\n",
       "      <td>41.233232</td>\n",
       "      <td>40.827395</td>\n",
       "      <td>41.004888</td>\n",
       "      <td>4.354812e+07</td>\n",
       "    </tr>\n",
       "    <tr>\n",
       "      <th>2015-04-05</th>\n",
       "      <td>41.233918</td>\n",
       "      <td>41.370192</td>\n",
       "      <td>40.996138</td>\n",
       "      <td>41.152803</td>\n",
       "      <td>4.478490e+07</td>\n",
       "    </tr>\n",
       "    <tr>\n",
       "      <th>...</th>\n",
       "      <td>...</td>\n",
       "      <td>...</td>\n",
       "      <td>...</td>\n",
       "      <td>...</td>\n",
       "      <td>...</td>\n",
       "    </tr>\n",
       "    <tr>\n",
       "      <th>2021-03-27</th>\n",
       "      <td>233.540558</td>\n",
       "      <td>235.480932</td>\n",
       "      <td>230.619837</td>\n",
       "      <td>239.356734</td>\n",
       "      <td>2.132605e+07</td>\n",
       "    </tr>\n",
       "    <tr>\n",
       "      <th>2021-03-28</th>\n",
       "      <td>234.235598</td>\n",
       "      <td>235.293197</td>\n",
       "      <td>230.273360</td>\n",
       "      <td>238.865108</td>\n",
       "      <td>2.463427e+07</td>\n",
       "    </tr>\n",
       "    <tr>\n",
       "      <th>2021-03-29</th>\n",
       "      <td>236.590000</td>\n",
       "      <td>236.800000</td>\n",
       "      <td>231.880000</td>\n",
       "      <td>235.240000</td>\n",
       "      <td>2.522746e+07</td>\n",
       "    </tr>\n",
       "    <tr>\n",
       "      <th>2021-03-30</th>\n",
       "      <td>233.530000</td>\n",
       "      <td>233.850000</td>\n",
       "      <td>231.100000</td>\n",
       "      <td>231.850000</td>\n",
       "      <td>2.479201e+07</td>\n",
       "    </tr>\n",
       "    <tr>\n",
       "      <th>2021-03-31</th>\n",
       "      <td>232.910000</td>\n",
       "      <td>239.100000</td>\n",
       "      <td>232.390000</td>\n",
       "      <td>235.770000</td>\n",
       "      <td>4.362347e+07</td>\n",
       "    </tr>\n",
       "  </tbody>\n",
       "</table>\n",
       "<p>2192 rows × 5 columns</p>\n",
       "</div>"
      ],
      "text/plain": [
       "                  Open        High         Low       Close        Volume\n",
       "Date                                                                    \n",
       "2015-04-01   40.600000   40.760000   40.310000   40.720000  3.686532e+07\n",
       "2015-04-02   40.660000   40.740000   40.120000   40.290000  3.748748e+07\n",
       "2015-04-03   40.915622   41.087495   40.601939   40.843460  3.971508e+07\n",
       "2015-04-04   41.097598   41.233232   40.827395   41.004888  4.354812e+07\n",
       "2015-04-05   41.233918   41.370192   40.996138   41.152803  4.478490e+07\n",
       "...                ...         ...         ...         ...           ...\n",
       "2021-03-27  233.540558  235.480932  230.619837  239.356734  2.132605e+07\n",
       "2021-03-28  234.235598  235.293197  230.273360  238.865108  2.463427e+07\n",
       "2021-03-29  236.590000  236.800000  231.880000  235.240000  2.522746e+07\n",
       "2021-03-30  233.530000  233.850000  231.100000  231.850000  2.479201e+07\n",
       "2021-03-31  232.910000  239.100000  232.390000  235.770000  4.362347e+07\n",
       "\n",
       "[2192 rows x 5 columns]"
      ]
     },
     "execution_count": 35,
     "metadata": {},
     "output_type": "execute_result"
    }
   ],
   "source": [
    "upsampled_df_Q"
   ]
  },
  {
   "cell_type": "code",
   "execution_count": 36,
   "id": "3615da276241d37e",
   "metadata": {
    "ExecuteTime": {
     "end_time": "2024-09-12T20:03:49.272672Z",
     "start_time": "2024-09-12T20:03:49.247744Z"
    },
    "collapsed": false,
    "jupyter": {
     "outputs_hidden": false
    }
   },
   "outputs": [
    {
     "data": {
      "text/html": [
       "<div>\n",
       "<style scoped>\n",
       "    .dataframe tbody tr th:only-of-type {\n",
       "        vertical-align: middle;\n",
       "    }\n",
       "\n",
       "    .dataframe tbody tr th {\n",
       "        vertical-align: top;\n",
       "    }\n",
       "\n",
       "    .dataframe thead th {\n",
       "        text-align: right;\n",
       "    }\n",
       "</style>\n",
       "<table border=\"1\" class=\"dataframe\">\n",
       "  <thead>\n",
       "    <tr style=\"text-align: right;\">\n",
       "      <th></th>\n",
       "      <th>Open</th>\n",
       "      <th>High</th>\n",
       "      <th>Low</th>\n",
       "      <th>Close</th>\n",
       "      <th>Volume</th>\n",
       "    </tr>\n",
       "    <tr>\n",
       "      <th>Date</th>\n",
       "      <th></th>\n",
       "      <th></th>\n",
       "      <th></th>\n",
       "      <th></th>\n",
       "      <th></th>\n",
       "    </tr>\n",
       "  </thead>\n",
       "  <tbody>\n",
       "    <tr>\n",
       "      <th>2015-04-01</th>\n",
       "      <td>40.60</td>\n",
       "      <td>40.76</td>\n",
       "      <td>40.310</td>\n",
       "      <td>40.720000</td>\n",
       "      <td>3.686532e+07</td>\n",
       "    </tr>\n",
       "    <tr>\n",
       "      <th>2015-04-02</th>\n",
       "      <td>40.66</td>\n",
       "      <td>40.74</td>\n",
       "      <td>40.120</td>\n",
       "      <td>40.290000</td>\n",
       "      <td>3.748748e+07</td>\n",
       "    </tr>\n",
       "    <tr>\n",
       "      <th>2015-04-03</th>\n",
       "      <td>40.58</td>\n",
       "      <td>41.00</td>\n",
       "      <td>40.135</td>\n",
       "      <td>40.605000</td>\n",
       "      <td>3.792153e+07</td>\n",
       "    </tr>\n",
       "    <tr>\n",
       "      <th>2015-04-04</th>\n",
       "      <td>40.50</td>\n",
       "      <td>41.26</td>\n",
       "      <td>40.150</td>\n",
       "      <td>40.920000</td>\n",
       "      <td>3.835558e+07</td>\n",
       "    </tr>\n",
       "    <tr>\n",
       "      <th>2015-04-05</th>\n",
       "      <td>40.42</td>\n",
       "      <td>41.52</td>\n",
       "      <td>40.165</td>\n",
       "      <td>41.235000</td>\n",
       "      <td>3.878964e+07</td>\n",
       "    </tr>\n",
       "    <tr>\n",
       "      <th>...</th>\n",
       "      <td>...</td>\n",
       "      <td>...</td>\n",
       "      <td>...</td>\n",
       "      <td>...</td>\n",
       "      <td>...</td>\n",
       "    </tr>\n",
       "    <tr>\n",
       "      <th>2021-03-27</th>\n",
       "      <td>233.23</td>\n",
       "      <td>236.74</td>\n",
       "      <td>231.660</td>\n",
       "      <td>236.066667</td>\n",
       "      <td>2.539572e+07</td>\n",
       "    </tr>\n",
       "    <tr>\n",
       "      <th>2021-03-28</th>\n",
       "      <td>234.91</td>\n",
       "      <td>236.77</td>\n",
       "      <td>231.770</td>\n",
       "      <td>235.653333</td>\n",
       "      <td>2.531159e+07</td>\n",
       "    </tr>\n",
       "    <tr>\n",
       "      <th>2021-03-29</th>\n",
       "      <td>236.59</td>\n",
       "      <td>236.80</td>\n",
       "      <td>231.880</td>\n",
       "      <td>235.240000</td>\n",
       "      <td>2.522746e+07</td>\n",
       "    </tr>\n",
       "    <tr>\n",
       "      <th>2021-03-30</th>\n",
       "      <td>233.53</td>\n",
       "      <td>233.85</td>\n",
       "      <td>231.100</td>\n",
       "      <td>231.850000</td>\n",
       "      <td>2.479201e+07</td>\n",
       "    </tr>\n",
       "    <tr>\n",
       "      <th>2021-03-31</th>\n",
       "      <td>232.91</td>\n",
       "      <td>239.10</td>\n",
       "      <td>232.390</td>\n",
       "      <td>235.770000</td>\n",
       "      <td>4.362347e+07</td>\n",
       "    </tr>\n",
       "  </tbody>\n",
       "</table>\n",
       "<p>2192 rows × 5 columns</p>\n",
       "</div>"
      ],
      "text/plain": [
       "              Open    High      Low       Close        Volume\n",
       "Date                                                         \n",
       "2015-04-01   40.60   40.76   40.310   40.720000  3.686532e+07\n",
       "2015-04-02   40.66   40.74   40.120   40.290000  3.748748e+07\n",
       "2015-04-03   40.58   41.00   40.135   40.605000  3.792153e+07\n",
       "2015-04-04   40.50   41.26   40.150   40.920000  3.835558e+07\n",
       "2015-04-05   40.42   41.52   40.165   41.235000  3.878964e+07\n",
       "...            ...     ...      ...         ...           ...\n",
       "2021-03-27  233.23  236.74  231.660  236.066667  2.539572e+07\n",
       "2021-03-28  234.91  236.77  231.770  235.653333  2.531159e+07\n",
       "2021-03-29  236.59  236.80  231.880  235.240000  2.522746e+07\n",
       "2021-03-30  233.53  233.85  231.100  231.850000  2.479201e+07\n",
       "2021-03-31  232.91  239.10  232.390  235.770000  4.362347e+07\n",
       "\n",
       "[2192 rows x 5 columns]"
      ]
     },
     "execution_count": 36,
     "metadata": {},
     "output_type": "execute_result"
    }
   ],
   "source": [
    "upsampled_df_lin"
   ]
  },
  {
   "cell_type": "code",
   "execution_count": 37,
   "id": "3c31fd6223aa6b3f",
   "metadata": {
    "ExecuteTime": {
     "end_time": "2024-09-12T20:04:16.593832Z",
     "start_time": "2024-09-12T20:04:16.564565Z"
    },
    "collapsed": false,
    "jupyter": {
     "outputs_hidden": false
    }
   },
   "outputs": [
    {
     "data": {
      "text/html": [
       "<div>\n",
       "<style scoped>\n",
       "    .dataframe tbody tr th:only-of-type {\n",
       "        vertical-align: middle;\n",
       "    }\n",
       "\n",
       "    .dataframe tbody tr th {\n",
       "        vertical-align: top;\n",
       "    }\n",
       "\n",
       "    .dataframe thead th {\n",
       "        text-align: right;\n",
       "    }\n",
       "</style>\n",
       "<table border=\"1\" class=\"dataframe\">\n",
       "  <thead>\n",
       "    <tr style=\"text-align: right;\">\n",
       "      <th></th>\n",
       "      <th>Open</th>\n",
       "      <th>High</th>\n",
       "      <th>Low</th>\n",
       "      <th>Close</th>\n",
       "      <th>Volume</th>\n",
       "    </tr>\n",
       "    <tr>\n",
       "      <th>Date</th>\n",
       "      <th></th>\n",
       "      <th></th>\n",
       "      <th></th>\n",
       "      <th></th>\n",
       "      <th></th>\n",
       "    </tr>\n",
       "  </thead>\n",
       "  <tbody>\n",
       "    <tr>\n",
       "      <th>2015-04-30</th>\n",
       "      <td>43.070952</td>\n",
       "      <td>43.736667</td>\n",
       "      <td>42.870952</td>\n",
       "      <td>43.466667</td>\n",
       "      <td>4.164453e+07</td>\n",
       "    </tr>\n",
       "    <tr>\n",
       "      <th>2015-05-31</th>\n",
       "      <td>47.590000</td>\n",
       "      <td>47.977000</td>\n",
       "      <td>47.185500</td>\n",
       "      <td>47.530000</td>\n",
       "      <td>3.165364e+07</td>\n",
       "    </tr>\n",
       "    <tr>\n",
       "      <th>2015-06-30</th>\n",
       "      <td>46.104545</td>\n",
       "      <td>46.466364</td>\n",
       "      <td>45.679545</td>\n",
       "      <td>45.964091</td>\n",
       "      <td>3.022061e+07</td>\n",
       "    </tr>\n",
       "    <tr>\n",
       "      <th>2015-07-31</th>\n",
       "      <td>45.484545</td>\n",
       "      <td>46.013182</td>\n",
       "      <td>45.145455</td>\n",
       "      <td>45.611818</td>\n",
       "      <td>3.297537e+07</td>\n",
       "    </tr>\n",
       "    <tr>\n",
       "      <th>2015-08-31</th>\n",
       "      <td>45.541905</td>\n",
       "      <td>46.120476</td>\n",
       "      <td>44.933810</td>\n",
       "      <td>45.506667</td>\n",
       "      <td>3.697607e+07</td>\n",
       "    </tr>\n",
       "    <tr>\n",
       "      <th>...</th>\n",
       "      <td>...</td>\n",
       "      <td>...</td>\n",
       "      <td>...</td>\n",
       "      <td>...</td>\n",
       "      <td>...</td>\n",
       "    </tr>\n",
       "    <tr>\n",
       "      <th>2020-11-30</th>\n",
       "      <td>214.210000</td>\n",
       "      <td>216.458000</td>\n",
       "      <td>211.854000</td>\n",
       "      <td>214.139000</td>\n",
       "      <td>2.867372e+07</td>\n",
       "    </tr>\n",
       "    <tr>\n",
       "      <th>2020-12-31</th>\n",
       "      <td>217.612727</td>\n",
       "      <td>219.528636</td>\n",
       "      <td>216.009091</td>\n",
       "      <td>217.963182</td>\n",
       "      <td>2.702596e+07</td>\n",
       "    </tr>\n",
       "    <tr>\n",
       "      <th>2021-01-31</th>\n",
       "      <td>221.942632</td>\n",
       "      <td>224.572105</td>\n",
       "      <td>219.524211</td>\n",
       "      <td>221.975263</td>\n",
       "      <td>3.410516e+07</td>\n",
       "    </tr>\n",
       "    <tr>\n",
       "      <th>2021-02-28</th>\n",
       "      <td>239.622105</td>\n",
       "      <td>241.967368</td>\n",
       "      <td>237.451579</td>\n",
       "      <td>240.066842</td>\n",
       "      <td>2.584115e+07</td>\n",
       "    </tr>\n",
       "    <tr>\n",
       "      <th>2021-03-31</th>\n",
       "      <td>233.826522</td>\n",
       "      <td>236.289565</td>\n",
       "      <td>231.506087</td>\n",
       "      <td>233.674348</td>\n",
       "      <td>3.152094e+07</td>\n",
       "    </tr>\n",
       "  </tbody>\n",
       "</table>\n",
       "<p>72 rows × 5 columns</p>\n",
       "</div>"
      ],
      "text/plain": [
       "                  Open        High         Low       Close        Volume\n",
       "Date                                                                    \n",
       "2015-04-30   43.070952   43.736667   42.870952   43.466667  4.164453e+07\n",
       "2015-05-31   47.590000   47.977000   47.185500   47.530000  3.165364e+07\n",
       "2015-06-30   46.104545   46.466364   45.679545   45.964091  3.022061e+07\n",
       "2015-07-31   45.484545   46.013182   45.145455   45.611818  3.297537e+07\n",
       "2015-08-31   45.541905   46.120476   44.933810   45.506667  3.697607e+07\n",
       "...                ...         ...         ...         ...           ...\n",
       "2020-11-30  214.210000  216.458000  211.854000  214.139000  2.867372e+07\n",
       "2020-12-31  217.612727  219.528636  216.009091  217.963182  2.702596e+07\n",
       "2021-01-31  221.942632  224.572105  219.524211  221.975263  3.410516e+07\n",
       "2021-02-28  239.622105  241.967368  237.451579  240.066842  2.584115e+07\n",
       "2021-03-31  233.826522  236.289565  231.506087  233.674348  3.152094e+07\n",
       "\n",
       "[72 rows x 5 columns]"
      ]
     },
     "execution_count": 37,
     "metadata": {},
     "output_type": "execute_result"
    }
   ],
   "source": [
    "downsampled_df = df.resample('M').mean()\n",
    "downsampled_df"
   ]
  },
  {
   "cell_type": "code",
   "execution_count": 38,
   "id": "ac93fa0f9c9b2813",
   "metadata": {
    "ExecuteTime": {
     "end_time": "2024-09-12T20:04:31.257551Z",
     "start_time": "2024-09-12T20:04:31.189068Z"
    },
    "collapsed": false,
    "jupyter": {
     "outputs_hidden": false
    }
   },
   "outputs": [
    {
     "data": {
      "image/png": "[encoded data removed]",
      "text/plain": [
       "<Figure size 640x480 with 1 Axes>"
      ]
     },
     "metadata": {},
     "output_type": "display_data"
    }
   ],
   "source": [
    "downsampled_df.plot()\n",
    "plt.show()"
   ]
  },
  {
   "cell_type": "code",
   "execution_count": 39,
   "id": "9c16092f4b3bc5d2",
   "metadata": {
    "ExecuteTime": {
     "end_time": "2024-09-12T20:04:36.784106Z",
     "start_time": "2024-09-12T20:04:36.770669Z"
    },
    "collapsed": false,
    "jupyter": {
     "outputs_hidden": false
    }
   },
   "outputs": [],
   "source": [
    "extrapolated_df = df.interpolate(method='linear', limit_direction='both')"
   ]
  },
  {
   "cell_type": "code",
   "execution_count": 40,
   "id": "4834e1b29d855fab",
   "metadata": {
    "ExecuteTime": {
     "end_time": "2024-09-12T20:04:38.170923Z",
     "start_time": "2024-09-12T20:04:38.142091Z"
    },
    "collapsed": false,
    "jupyter": {
     "outputs_hidden": false
    }
   },
   "outputs": [
    {
     "data": {
      "text/html": [
       "<div>\n",
       "<style scoped>\n",
       "    .dataframe tbody tr th:only-of-type {\n",
       "        vertical-align: middle;\n",
       "    }\n",
       "\n",
       "    .dataframe tbody tr th {\n",
       "        vertical-align: top;\n",
       "    }\n",
       "\n",
       "    .dataframe thead th {\n",
       "        text-align: right;\n",
       "    }\n",
       "</style>\n",
       "<table border=\"1\" class=\"dataframe\">\n",
       "  <thead>\n",
       "    <tr style=\"text-align: right;\">\n",
       "      <th></th>\n",
       "      <th>Open</th>\n",
       "      <th>High</th>\n",
       "      <th>Low</th>\n",
       "      <th>Close</th>\n",
       "      <th>Volume</th>\n",
       "    </tr>\n",
       "    <tr>\n",
       "      <th>Date</th>\n",
       "      <th></th>\n",
       "      <th></th>\n",
       "      <th></th>\n",
       "      <th></th>\n",
       "      <th></th>\n",
       "    </tr>\n",
       "  </thead>\n",
       "  <tbody>\n",
       "    <tr>\n",
       "      <th>2015-04-01 16:00:00</th>\n",
       "      <td>40.60</td>\n",
       "      <td>40.76</td>\n",
       "      <td>40.31</td>\n",
       "      <td>40.72</td>\n",
       "      <td>36865322</td>\n",
       "    </tr>\n",
       "    <tr>\n",
       "      <th>2015-04-02 16:00:00</th>\n",
       "      <td>40.66</td>\n",
       "      <td>40.74</td>\n",
       "      <td>40.12</td>\n",
       "      <td>40.29</td>\n",
       "      <td>37487476</td>\n",
       "    </tr>\n",
       "    <tr>\n",
       "      <th>2015-04-06 16:00:00</th>\n",
       "      <td>40.34</td>\n",
       "      <td>41.78</td>\n",
       "      <td>40.18</td>\n",
       "      <td>41.55</td>\n",
       "      <td>39223692</td>\n",
       "    </tr>\n",
       "    <tr>\n",
       "      <th>2015-04-07 16:00:00</th>\n",
       "      <td>41.61</td>\n",
       "      <td>41.91</td>\n",
       "      <td>41.31</td>\n",
       "      <td>41.53</td>\n",
       "      <td>28809375</td>\n",
       "    </tr>\n",
       "    <tr>\n",
       "      <th>2015-04-08 16:00:00</th>\n",
       "      <td>41.48</td>\n",
       "      <td>41.69</td>\n",
       "      <td>41.04</td>\n",
       "      <td>41.42</td>\n",
       "      <td>24753438</td>\n",
       "    </tr>\n",
       "    <tr>\n",
       "      <th>...</th>\n",
       "      <td>...</td>\n",
       "      <td>...</td>\n",
       "      <td>...</td>\n",
       "      <td>...</td>\n",
       "      <td>...</td>\n",
       "    </tr>\n",
       "    <tr>\n",
       "      <th>2021-03-25 16:00:00</th>\n",
       "      <td>235.30</td>\n",
       "      <td>236.94</td>\n",
       "      <td>231.57</td>\n",
       "      <td>232.34</td>\n",
       "      <td>34061853</td>\n",
       "    </tr>\n",
       "    <tr>\n",
       "      <th>2021-03-26 16:00:00</th>\n",
       "      <td>231.55</td>\n",
       "      <td>236.71</td>\n",
       "      <td>231.55</td>\n",
       "      <td>236.48</td>\n",
       "      <td>25479853</td>\n",
       "    </tr>\n",
       "    <tr>\n",
       "      <th>2021-03-29 16:00:00</th>\n",
       "      <td>236.59</td>\n",
       "      <td>236.80</td>\n",
       "      <td>231.88</td>\n",
       "      <td>235.24</td>\n",
       "      <td>25227455</td>\n",
       "    </tr>\n",
       "    <tr>\n",
       "      <th>2021-03-30 16:00:00</th>\n",
       "      <td>233.53</td>\n",
       "      <td>233.85</td>\n",
       "      <td>231.10</td>\n",
       "      <td>231.85</td>\n",
       "      <td>24792012</td>\n",
       "    </tr>\n",
       "    <tr>\n",
       "      <th>2021-03-31 16:00:00</th>\n",
       "      <td>232.91</td>\n",
       "      <td>239.10</td>\n",
       "      <td>232.39</td>\n",
       "      <td>235.77</td>\n",
       "      <td>43623471</td>\n",
       "    </tr>\n",
       "  </tbody>\n",
       "</table>\n",
       "<p>1511 rows × 5 columns</p>\n",
       "</div>"
      ],
      "text/plain": [
       "                       Open    High     Low   Close    Volume\n",
       "Date                                                         \n",
       "2015-04-01 16:00:00   40.60   40.76   40.31   40.72  36865322\n",
       "2015-04-02 16:00:00   40.66   40.74   40.12   40.29  37487476\n",
       "2015-04-06 16:00:00   40.34   41.78   40.18   41.55  39223692\n",
       "2015-04-07 16:00:00   41.61   41.91   41.31   41.53  28809375\n",
       "2015-04-08 16:00:00   41.48   41.69   41.04   41.42  24753438\n",
       "...                     ...     ...     ...     ...       ...\n",
       "2021-03-25 16:00:00  235.30  236.94  231.57  232.34  34061853\n",
       "2021-03-26 16:00:00  231.55  236.71  231.55  236.48  25479853\n",
       "2021-03-29 16:00:00  236.59  236.80  231.88  235.24  25227455\n",
       "2021-03-30 16:00:00  233.53  233.85  231.10  231.85  24792012\n",
       "2021-03-31 16:00:00  232.91  239.10  232.39  235.77  43623471\n",
       "\n",
       "[1511 rows x 5 columns]"
      ]
     },
     "execution_count": 40,
     "metadata": {},
     "output_type": "execute_result"
    }
   ],
   "source": [
    "extrapolated_df"
   ]
  },
  {
   "cell_type": "code",
   "execution_count": 41,
   "id": "7637d4d7809e1eec",
   "metadata": {
    "ExecuteTime": {
     "end_time": "2024-09-12T20:04:53.213167Z",
     "start_time": "2024-09-12T20:04:53.175046Z"
    },
    "collapsed": false,
    "jupyter": {
     "outputs_hidden": false
    }
   },
   "outputs": [
    {
     "name": "stdout",
     "output_type": "stream",
     "text": [
      "Upsampled Data:\n",
      "             Open   High    Low  Close      Volume\n",
      "Date                                              \n",
      "2015-04-01  40.60  40.76  40.31  40.72  36865322.0\n",
      "2015-04-02  40.66  40.74  40.12  40.29  37487476.0\n",
      "2015-04-03    NaN    NaN    NaN    NaN         NaN\n",
      "2015-04-04    NaN    NaN    NaN    NaN         NaN\n",
      "2015-04-05    NaN    NaN    NaN    NaN         NaN\n",
      "\n",
      "Downsampled Data:\n",
      "                 Open       High        Low      Close        Volume\n",
      "Date                                                                \n",
      "2015-04-30  43.070952  43.736667  42.870952  43.466667  4.164453e+07\n",
      "2015-05-31  47.590000  47.977000  47.185500  47.530000  3.165364e+07\n",
      "2015-06-30  46.104545  46.466364  45.679545  45.964091  3.022061e+07\n",
      "2015-07-31  45.484545  46.013182  45.145455  45.611818  3.297537e+07\n",
      "2015-08-31  45.541905  46.120476  44.933810  45.506667  3.697607e+07\n",
      "\n",
      "Extrapolated Data:\n",
      "                      Open   High    Low  Close    Volume\n",
      "Date                                                     \n",
      "2015-04-01 16:00:00  40.60  40.76  40.31  40.72  36865322\n",
      "2015-04-02 16:00:00  40.66  40.74  40.12  40.29  37487476\n",
      "2015-04-06 16:00:00  40.34  41.78  40.18  41.55  39223692\n",
      "2015-04-07 16:00:00  41.61  41.91  41.31  41.53  28809375\n",
      "2015-04-08 16:00:00  41.48  41.69  41.04  41.42  24753438\n"
     ]
    }
   ],
   "source": [
    "print(\"Upsampled Data:\")\n",
    "print(upsampled_df.head())\n",
    "print(\"\\nDownsampled Data:\")\n",
    "print(downsampled_df.head())\n",
    "print(\"\\nExtrapolated Data:\")\n",
    "print(extrapolated_df.head())"
   ]
  },
  {
   "cell_type": "code",
   "execution_count": null,
   "id": "64719f515d4aa7d6",
   "metadata": {
    "collapsed": false,
    "jupyter": {
     "outputs_hidden": false
    }
   },
   "outputs": [],
   "source": []
  }
 ],
 "metadata": {
  "kernelspec": {
   "display_name": "Python 3 (ipykernel)",
   "language": "python",
   "name": "python3"
  },
  "language_info": {
   "codemirror_mode": {
    "name": "ipython",
    "version": 3
   },
   "file_extension": ".py",
   "mimetype": "text/x-python",
   "name": "python",
   "nbconvert_exporter": "python",
   "pygments_lexer": "ipython3",
   "version": "3.10.13"
  }
 },
 "nbformat": 4,
 "nbformat_minor": 5
}
